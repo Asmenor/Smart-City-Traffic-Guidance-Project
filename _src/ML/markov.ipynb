{
 "cells": [
  {
   "cell_type": "markdown",
   "id": "8fe4ab24",
   "metadata": {},
   "source": [
    "https://iq.opengenus.org/time-series-prediction/  \n",
    "https://www.datacamp.com/tutorial/markov-chains-python-tutorial"
   ]
  },
  {
   "cell_type": "code",
   "execution_count": 2,
   "id": "f705cae0",
   "metadata": {},
   "outputs": [
    {
     "ename": "ModuleNotFoundError",
     "evalue": "No module named 'tensorflow'",
     "output_type": "error",
     "traceback": [
      "\u001b[0;31m---------------------------------------------------------------------------\u001b[0m",
      "\u001b[0;31mModuleNotFoundError\u001b[0m                       Traceback (most recent call last)",
      "\u001b[1;32m/Users/haider/Documents/GitHub/traffic-management/_src/ML/markov.ipynb Cell 2\u001b[0m in \u001b[0;36m<cell line: 1>\u001b[0;34m()\u001b[0m\n\u001b[0;32m----> <a href='vscode-notebook-cell:/Users/haider/Documents/GitHub/traffic-management/_src/ML/markov.ipynb#W1sZmlsZQ%3D%3D?line=0'>1</a>\u001b[0m \u001b[39mimport\u001b[39;00m \u001b[39mtensorflow\u001b[39;00m \u001b[39mas\u001b[39;00m \u001b[39mtf\u001b[39;00m\n\u001b[1;32m      <a href='vscode-notebook-cell:/Users/haider/Documents/GitHub/traffic-management/_src/ML/markov.ipynb#W1sZmlsZQ%3D%3D?line=1'>2</a>\u001b[0m \u001b[39mimport\u001b[39;00m \u001b[39mnumpy\u001b[39;00m \u001b[39mas\u001b[39;00m \u001b[39mnp\u001b[39;00m\n\u001b[1;32m      <a href='vscode-notebook-cell:/Users/haider/Documents/GitHub/traffic-management/_src/ML/markov.ipynb#W1sZmlsZQ%3D%3D?line=2'>3</a>\u001b[0m \u001b[39mimport\u001b[39;00m \u001b[39mmatplotlib\u001b[39;00m\u001b[39m.\u001b[39;00m\u001b[39mpyplot\u001b[39;00m \u001b[39mas\u001b[39;00m \u001b[39mplt\u001b[39;00m\n",
      "\u001b[0;31mModuleNotFoundError\u001b[0m: No module named 'tensorflow'"
     ]
    }
   ],
   "source": [
    "import tensorflow as tf\n",
    "import numpy as np\n",
    "import matplotlib.pyplot as plt\n",
    "import tensorflow as tf\n",
    "from tensorflow import keras\n",
    "import pandas as pd\n",
    "import random as rm\n",
    "from random import seed"
   ]
  },
  {
   "cell_type": "markdown",
   "id": "327e7995",
   "metadata": {},
   "source": [
    "# Add SourceMLFile"
   ]
  },
  {
   "cell_type": "code",
   "execution_count": null,
   "id": "ebee5211",
   "metadata": {},
   "outputs": [],
   "source": [
    "df = pd.read_csv('_data/MLSourceFileFromCSV.csv', index_col=0)\n",
    "print(df)"
   ]
  },
  {
   "cell_type": "code",
   "execution_count": null,
   "id": "81bde234",
   "metadata": {},
   "outputs": [],
   "source": [
    "#check if a directional road exists \n",
    "df['11th Ave[5-4]'].values.tolist()[:5]"
   ]
  },
  {
   "cell_type": "code",
   "execution_count": null,
   "id": "a99051a8",
   "metadata": {},
   "outputs": [],
   "source": [
    "road_list = ['44', '43', '42']\n",
    "\n",
    "#for col_name in df.columns[:5]:\n",
    "#    road_list.append(col_name)\n",
    "\n",
    "'''\n",
    "       44       43       42 \n",
    "44     0.0      1.0      0.0\n",
    "43     0.0      0.0      0.5\n",
    "42     0.0      0.0      0.1\n",
    "'''\n",
    "    \n",
    "print(road_list)\n",
    "    \n",
    "transitions = ['44', '43', '42']\n",
    "\n",
    "    \n",
    "probability_matrix = P = [[0.1, 0.9, 0.0], \n",
    "                      [0.0, 0.1, 0.9], \n",
    "                      [0.0, 0.0, 0.1]]\n",
    "\n",
    "'''\n",
    "for i in road_list:\n",
    "    probability_matrix.append(df[i].values.tolist()[:5])\n",
    "''' \n",
    "print(probability_matrix)\n"
   ]
  },
  {
   "cell_type": "code",
   "execution_count": null,
   "id": "9ea529e8",
   "metadata": {},
   "outputs": [],
   "source": [
    "for x in probability_matrix:\n",
    "    if sum(x) > 1.0:\n",
    "        print(\"Error in probabilities.\")"
   ]
  },
  {
   "cell_type": "code",
   "execution_count": null,
   "id": "aa7688ae",
   "metadata": {},
   "outputs": [],
   "source": [
    "#https://towardsdatascience.com/markov-chain-analysis-and-simulation-using-python-4507cee0b06e\n",
    "\n",
    "stateChangeHist= np.array([[0.0, 0.0, 0.0],\n",
    "                           [0.0, 0.0, 0.0],\n",
    "                           [0.0, 0.0, 0.0]])\n",
    "\n",
    "\n",
    "state = np.array([[1.0, 0.0, 0.0]])\n",
    "currentState = 0\n",
    "stateHist = state\n",
    "dfStateHist = pd.DataFrame(state)\n",
    "distr_hist = [[0,0,0]]\n",
    "seed(4)\n",
    "\n",
    "for x in range(50):\n",
    "  state=np.dot(state,probability_matrix)\n",
    "  print(state)\n",
    "  stateHist=np.append(stateHist,state,axis=0)\n",
    "  dfDistrHist = pd.DataFrame(stateHist)\n",
    "  dfDistrHist.plot()\n",
    "\n",
    "plt.show()"
   ]
  },
  {
   "cell_type": "markdown",
   "id": "d01e7232",
   "metadata": {},
   "source": [
    "### Stationary Distribution"
   ]
  },
  {
   "cell_type": "code",
   "execution_count": null,
   "id": "f9a6204d",
   "metadata": {},
   "outputs": [],
   "source": [
    "A=np.append(np.transpose(probability_matrix)-np.identity(3),[[1,1,1]],axis=0)\n",
    "b=np.transpose(np.array([0,0,0,1]))\n",
    "np.linalg.solve(np.transpose(A).dot(A), np.transpose(A).dot(b))"
   ]
  },
  {
   "cell_type": "code",
   "execution_count": null,
   "id": "3a811dc7",
   "metadata": {},
   "outputs": [],
   "source": [
    "#use this to make the next move?"
   ]
  },
  {
   "cell_type": "code",
   "execution_count": null,
   "id": "900c2ff7",
   "metadata": {},
   "outputs": [],
   "source": [
    "# Simulate from multinomial distribution\n",
    "def simulate_multinomial(vmultinomial):\n",
    "    r = np.random.uniform(0.0, 1.0)\n",
    "    CS = np.cumsum(vmultinomial)\n",
    "    CS = np.insert(CS,0,0)\n",
    "    m = (np.where(CS<r))[0]\n",
    "    nextState = m[len(m)-1]\n",
    "    return nextState\n",
    "\n",
    "for x in range(1000):\n",
    "    currentRow = np.ma.masked_values((P[currentState]), 0.0)\n",
    "    nextState = simulate_multinomial(currentRow)  \n",
    "\n",
    "    # Keep track of state changes  stateChangeHist[currentState,nextState]+=1  \n",
    "    # Keep track of the state vector itself\n",
    "    state = np.array([[0,0,0]])\n",
    "    state[0,nextState] = 1.0  \n",
    "\n",
    "    # Keep track of state history\n",
    "    stateHist = np.append(stateHist,state,axis=0)\n",
    "    currentState = nextState  \n",
    "\n",
    "    # calculate the actual distribution over the 3 states so far\n",
    "    totals = np.sum(stateHist,axis=0)\n",
    "    gt = np.sum(totals)\n",
    "    distrib = totals/gt\n",
    "    distrib = np.reshape(distrib,(1,3))\n",
    "    distr_hist = np.append(distr_hist,distrib,axis=0)\n",
    "\n",
    "print(distrib)\n",
    "P_hat = stateChangeHist/stateChangeHist.sum(axis=1)[:,None]\n",
    "\n",
    "# Check estimated state transition probabilities based on history so far:print(P_hat)dfDistrHist = pd.DataFrame(distr_hist)# Plot the distribution as the simulation progresses over timedfDistrHist.plot(title=\"Simulation History\")\n",
    "plt.show()"
   ]
  },
  {
   "cell_type": "code",
   "execution_count": null,
   "id": "33cd3468",
   "metadata": {},
   "outputs": [],
   "source": []
  },
  {
   "cell_type": "code",
   "execution_count": null,
   "id": "35c38b4d",
   "metadata": {},
   "outputs": [],
   "source": []
  }
 ],
 "metadata": {
  "kernelspec": {
   "display_name": "Python 3 (ipykernel)",
   "language": "python",
   "name": "python3"
  },
  "language_info": {
   "codemirror_mode": {
    "name": "ipython",
    "version": 3
   },
   "file_extension": ".py",
   "mimetype": "text/x-python",
   "name": "python",
   "nbconvert_exporter": "python",
   "pygments_lexer": "ipython3",
   "version": "3.9.7"
  },
  "vscode": {
   "interpreter": {
    "hash": "b0fa6594d8f4cbf19f97940f81e996739fb7646882a419484c72d19e05852a7e"
   }
  }
 },
 "nbformat": 4,
 "nbformat_minor": 5
}
