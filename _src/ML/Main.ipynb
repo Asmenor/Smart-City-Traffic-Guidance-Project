{
 "cells": [
  {
   "cell_type": "code",
   "execution_count": null,
   "id": "7e326e6c",
   "metadata": {},
   "outputs": [],
   "source": [
    "#https://stackoverflow.com/questions/47330244/generating-random-transition-probability-matrix-python\n",
    "#https://docs.python.org/3/library/random.html\n",
    "#ref: https://www.datacamp.com/tutorial/markov-chains-python-tutorial"
   ]
  },
  {
   "cell_type": "code",
   "execution_count": null,
   "id": "03f0d614",
   "metadata": {},
   "outputs": [],
   "source": [
    "from Transition import Transition"
   ]
  },
  {
   "cell_type": "code",
   "execution_count": null,
   "id": "1cee9b3a",
   "metadata": {},
   "outputs": [],
   "source": [
    "import datetime\n",
    "\n",
    "Tra = Transition(3,3)\n",
    "\n",
    "for _ in range(1):\n",
    "    Tra.gen_state_prob(3, \"uniform\")\n",
    "    M = Tra.get_transition_matrix()\n",
    "    print(M)\n",
    "\n",
    "\n",
    "print(M)\n",
    "\n",
    "import numpy as np\n",
    "from matplotlib import pyplot as plt\n",
    "\"\"\"\n",
    "plt.rcParams[\"figure.figsize\"] = [7.00, 3.50]\n",
    "plt.rcParams[\"figure.autolayout\"] = True\n",
    "im = plt.imshow(M, cmap=\"copper_r\")\n",
    "plt.colorbar(im)\n",
    "plt.show()\n",
    "\"\"\"\n",
    "figure, axis = plt.subplots(3, 3)\n",
    "\n",
    "for i in range(3):\n",
    "    for j in range(3):\n",
    "        Tra.gen_state_prob(3, \"uniform\")\n",
    "        M = Tra.get_transition_matrix()\n",
    "        plt.rcParams[\"figure.autolayout\"] = True\n",
    "        axis[i,j].imshow(M, cmap=\"copper_r\")\n",
    "        \n",
    "\n",
    "\n",
    "#axis[0, 1].plot(X, Y2)\n",
    "#axis[0, 1].set_title(\"Cosine Function\")\n",
    "#plt.savefig(\"plots/TM-heatmap-\"+str(datetime.datetime.now())+\".png\", bbox_inches=\"tight\")\n",
    "plt.show()"
   ]
  },
  {
   "cell_type": "markdown",
   "id": "13563368",
   "metadata": {},
   "source": [
    "## Plot State Transition Diagram"
   ]
  },
  {
   "cell_type": "code",
   "execution_count": null,
   "id": "37dd7519",
   "metadata": {},
   "outputs": [],
   "source": [
    "'''\n",
    "import numpy as np\n",
    "from matplotlib import pyplot as plt\n",
    "\n",
    "# Import the MarkovChain class from markovchain.py\n",
    "from markovchain import MarkovChain\n",
    "P = np.array(transition_matrix)\n",
    "mc = MarkovChain(P, ['left', 'straight', 'right'])\n",
    "mc.draw()\n",
    "'''"
   ]
  },
  {
   "cell_type": "markdown",
   "id": "e4389848",
   "metadata": {},
   "source": [
    "## Simulate Map"
   ]
  },
  {
   "cell_type": "code",
   "execution_count": null,
   "id": "353bab56",
   "metadata": {},
   "outputs": [],
   "source": [
    "from MarkovProcess import MarkovChain\n",
    "from Population import Population\n",
    "from Simulate import Simulate\n",
    "\n",
    "P = Population(20,0.5,0.5,30)\n",
    "noOfTimeSteps = 40 - 2\n",
    "#timeSteps = [10,50,100,150, 200, 250, 300, 350, 400, 450, 500, 550, 600, 650, 700, 750, 800, 850, 900, 950]\n",
    "#timeSteps = [10,100,500,1000,1500,2000,2500,3000,3500,4000]\n",
    "timeSteps = [10, 50]\n",
    "timeVal = 50\n",
    "for i in range(noOfTimeSteps):\n",
    "    timeVal += 50\n",
    "    timeSteps.append(timeVal)\n",
    "print(\"timeSteps:\", timeSteps)\n",
    "\n",
    "S = Simulate(timeSteps)\n",
    "\n",
    "S.addCars = True        #add new cars at every time step\n",
    "S.addActCars = False\n",
    "\n",
    "S.runSimulation(P)\n",
    "print(\"lCars: \", S.getLCars())\n",
    "print(\"timeSteps: \", S.getLCars())\n",
    "#S.printMap(True)\n",
    "S.plotData()\n",
    "Features, Labels = S.getLearningData()\n",
    "#[print(Features[i]) for i in range(5)] \n",
    "#print()\n",
    "#[print(Labels[i]) for i in range(5)] \n",
    "\n",
    "S.generateTestingData(1000)\n",
    "tFeatures, tLabels = S.getTestingData()\n",
    "#print(tLabels)\n",
    "#print(tFeatures)\n",
    "\n",
    "#override features\n",
    "#S.generateTestingData(1000)\n",
    "#Features, Labels = S.getTestingData()\n",
    "\n",
    "del S"
   ]
  },
  {
   "cell_type": "code",
   "execution_count": null,
   "id": "00fd19e9",
   "metadata": {},
   "outputs": [],
   "source": []
  },
  {
   "cell_type": "code",
   "execution_count": null,
   "id": "252409d3",
   "metadata": {},
   "outputs": [],
   "source": [
    "#https://vknight.org/unpeudemath/code/2015/08/01/simulating_continuous_markov_chains.html"
   ]
  },
  {
   "cell_type": "markdown",
   "id": "7f2443c2",
   "metadata": {},
   "source": [
    "## Plot MarkovChain"
   ]
  },
  {
   "cell_type": "code",
   "execution_count": null,
   "id": "d35d8a6a",
   "metadata": {},
   "outputs": [],
   "source": [
    "'''\n",
    "import pygraphviz as pgv\n",
    "from IPython.display import Image\n",
    "\n",
    "def draw(dot):\n",
    "    return Image(pgv.AGraph(dot).draw(format='png', prog='dot'))\n",
    "\n",
    "g1 = \"\"\"digraph top {\n",
    "   a -> b -> c;\n",
    "}\"\"\"\n",
    "draw(g1)\n",
    "'''"
   ]
  },
  {
   "cell_type": "markdown",
   "id": "63086942",
   "metadata": {},
   "source": [
    "## Decision Tree Classifier"
   ]
  },
  {
   "cell_type": "code",
   "execution_count": null,
   "id": "bbf4b7d1",
   "metadata": {},
   "outputs": [],
   "source": [
    "from sklearn import tree\n",
    "X = Features\n",
    "Y = Labels\n",
    "pLabels = []\n",
    "clf = tree.DecisionTreeClassifier()\n",
    "clf = clf.fit(X, Y)\n",
    "\n",
    "matched = 0\n",
    "for i in range(len(tFeatures)):\n",
    "    #print(clf.predict([tFeatures[i]]),\"-->\",tLabels[i])\n",
    "    if clf.predict([tFeatures[i]]) == tLabels[i]:\n",
    "        matched+=1\n",
    "    pLabels.append(clf.predict([tFeatures[i]])[0])\n",
    "        \n",
    "#print(len(pLabels), len(tLabels))\n",
    "print(\"accuracy: \", matched/len(tFeatures))\n",
    "\n",
    "#clf.predict([[0.3,0.2,0.5,0.1,0.4,0.5,0.6,0.3,0.1,1]])\n",
    "#clf.predict_proba([[0.3,0.2,0.5,0.1,0.4,0.5,0.6,0.3,0.1,1]])"
   ]
  },
  {
   "cell_type": "code",
   "execution_count": null,
   "id": "28879d50",
   "metadata": {},
   "outputs": [],
   "source": [
    "'''\n",
    "import graphviz \n",
    "dot_data = tree.export_graphviz(clf, out_file=None) \n",
    "graph = graphviz.Source(dot_data) \n",
    "graph.render(\"traffic_tree\") \n",
    "'''"
   ]
  },
  {
   "cell_type": "markdown",
   "id": "45a5c6dc",
   "metadata": {},
   "source": [
    "## Logistic Regression"
   ]
  },
  {
   "cell_type": "code",
   "execution_count": null,
   "id": "025f74fa",
   "metadata": {},
   "outputs": [],
   "source": [
    "from sklearn.linear_model import LogisticRegression\n",
    "from sklearn import datasets, metrics\n",
    "\n",
    "classifier = LogisticRegression()\n",
    "classifier.fit(Features, Labels)\n",
    "score = metrics.accuracy_score(Labels, classifier.predict(Features))\n",
    "print(\"Accuracy: %f\" % score)"
   ]
  },
  {
   "cell_type": "markdown",
   "id": "e8561256",
   "metadata": {},
   "source": [
    "https://scikit-learn.org/stable/modules/generated/sklearn.neural_network.MLPClassifier.html#sklearn.neural_network.MLPClassifier"
   ]
  },
  {
   "cell_type": "markdown",
   "id": "790e9ebb",
   "metadata": {},
   "source": [
    "## Neural Network MLP Classifier"
   ]
  },
  {
   "cell_type": "code",
   "execution_count": null,
   "id": "2eedb07d",
   "metadata": {},
   "outputs": [],
   "source": [
    "from sklearn.neural_network import MLPClassifier\n",
    "from sklearn.preprocessing import MinMaxScaler\n",
    "X = Features\n",
    "y = Labels\n",
    "MLPpLabels = []\n",
    "    \n",
    "\n",
    "print(\"data:\",len(X))\n",
    "print(\"labels:\",len(y))\n",
    "\n",
    "#scale learning data\n",
    "dataX = X\n",
    "scaler = MinMaxScaler()\n",
    "print(scaler.fit(dataX))\n",
    "dataX = scaler.transform(dataX)\n",
    "\n",
    "[print(dataX[i]) for i in range(5)] \n",
    "\n",
    "clf = MLPClassifier(activation=\"relu\",\n",
    "                    solver='adam',#'lbfgs', \n",
    "                    alpha=0.00001,\n",
    "                    hidden_layer_sizes=(12, ), \n",
    "                    random_state=1,\n",
    "                    batch_size='auto',\n",
    "                    early_stopping=False,\n",
    "                    warm_start=True)\n",
    "\n",
    "clf.fit(dataX, y)\n",
    "\n",
    "#scale testing data\n",
    "tDataX = tFeatures\n",
    "scaler = MinMaxScaler()\n",
    "print(scaler.fit(tDataX))\n",
    "tDataX = scaler.transform(tDataX)\n",
    "\n",
    "matched = 0\n",
    "lbl = \"\"\n",
    "for i in range(len(tDataX)):\n",
    "    L = clf.predict([tDataX[i]])\n",
    "    if L == tLabels[i]:\n",
    "        matched+=1\n",
    "    MLPpLabels.append(L[0])\n",
    "\n",
    "print(\"accuracy: \", matched/len(tDataX))\n",
    "print(\"score:\", clf.score(dataX, y))\n",
    "print(\"loss:\", clf.loss_)\n",
    "\n",
    "from matplotlib import pyplot as plt\n",
    "\n",
    "plt.hist(tLabels, color='r')\n",
    "#plt.legend()\n",
    "plt.show()\n",
    "plt.hist(MLPpLabels, color='b')\n",
    "plt.show()\n",
    "#print(\"tLabels\", tLabels)\n",
    "#print(\"MLPpLabels\", MLPpLabels)\n",
    "\n",
    "plt.plot(clf.loss_curve_, label=\"loss\")\n",
    "#plt.plot(clf.best_validation_score_, label=\"validation\")\n",
    "\n",
    "#plt.legend(True)\n",
    "plt.show()\n",
    "\n",
    "\n",
    "\n",
    "#clf.predict_proba([[2., 2.], [1., 2.]])"
   ]
  },
  {
   "cell_type": "markdown",
   "id": "1442ee40",
   "metadata": {},
   "source": [
    "## Confusion Matrix"
   ]
  },
  {
   "cell_type": "code",
   "execution_count": null,
   "id": "8168758e",
   "metadata": {},
   "outputs": [],
   "source": [
    "import matplotlib.pyplot as plt\n",
    "import numpy\n",
    "from sklearn import metrics\n",
    "import datetime\n",
    "\n",
    "actual = tLabels\n",
    "predicted = pLabels\n",
    "\n",
    "#confusion_matrix = metrics.confusion_matrix(actual, predicted, labels=clf.classes_)#[\"left\", \"straight\", \"right\"])\n",
    "confusion_matrix = metrics.confusion_matrix(actual, MLPpLabels, labels=clf.classes_)#[\"left\", \"straight\", \"right\"])\n",
    "cm_display = metrics.ConfusionMatrixDisplay(confusion_matrix = confusion_matrix, display_labels = clf.classes_)#[False, True])\n",
    "\n",
    "cm_display.plot(cmap = 'Blues')\n",
    "#plt.savefig(\"plots/confusion-matrix-\"+str(datetime.datetime.now())+\".png\", bbox_inches=\"tight\")\n",
    "plt.show() "
   ]
  },
  {
   "cell_type": "code",
   "execution_count": null,
   "id": "4775b7d4",
   "metadata": {},
   "outputs": [],
   "source": [
    "#LATEST 01/19"
   ]
  },
  {
   "cell_type": "code",
   "execution_count": null,
   "id": "e9324d40",
   "metadata": {},
   "outputs": [],
   "source": []
  }
 ],
 "metadata": {
  "kernelspec": {
   "display_name": "base",
   "language": "python",
   "name": "python3"
  },
  "language_info": {
   "codemirror_mode": {
    "name": "ipython",
    "version": 3
   },
   "file_extension": ".py",
   "mimetype": "text/x-python",
   "name": "python",
   "nbconvert_exporter": "python",
   "pygments_lexer": "ipython3",
   "version": "3.8.5 (default, Sep  3 2020, 21:29:08) [MSC v.1916 64 bit (AMD64)]"
  },
  "vscode": {
   "interpreter": {
    "hash": "d30f152d24ad6cac239f7e18735ddea70ecc9abacc7dc1903dced589f11f9399"
   }
  }
 },
 "nbformat": 4,
 "nbformat_minor": 5
}
