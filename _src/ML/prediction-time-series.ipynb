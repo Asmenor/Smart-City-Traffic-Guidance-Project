{
 "cells": [
  {
   "cell_type": "markdown",
   "id": "8fe4ab24",
   "metadata": {},
   "source": [
    "https://iq.opengenus.org/time-series-prediction/"
   ]
  },
  {
   "cell_type": "code",
   "execution_count": null,
   "id": "f705cae0",
   "metadata": {},
   "outputs": [],
   "source": [
    "import tensorflow as tf\n",
    "import numpy as np\n",
    "import matplotlib.pyplot as plt\n",
    "import tensorflow as tf\n",
    "from tensorflow import keras\n",
    "import pandas as pd"
   ]
  },
  {
   "cell_type": "markdown",
   "id": "327e7995",
   "metadata": {},
   "source": [
    "# Add SourceMLFile"
   ]
  },
  {
   "cell_type": "code",
   "execution_count": null,
   "id": "ebee5211",
   "metadata": {},
   "outputs": [],
   "source": [
    "df = pd.read_csv('_data/MLSourceFileFromCSV.csv', index_col=0)\n",
    "print(df)"
   ]
  },
  {
   "cell_type": "code",
   "execution_count": null,
   "id": "c819fa00",
   "metadata": {},
   "outputs": [],
   "source": [
    "def plot_series(time, series, format=\"-\", start=0, end=None):\n",
    "    plt.plot(time[start:end], series[start:end], format)\n",
    "    plt.xlabel(\"Time\")\n",
    "    plt.ylabel(\"Value\")\n",
    "    plt.grid(True)\n",
    "\n",
    "def trend(time, slope=0):\n",
    "    return slope * time\n",
    "\n",
    "def seasonal_pattern(season_time):\n",
    "    \"\"\"Just an arbitrary pattern, you can change it if you wish\"\"\"\n",
    "    return np.where(season_time < 0.4,\n",
    "                    np.cos(season_time * 2 * np.pi),\n",
    "                    1 / np.exp(3 * season_time))\n",
    "\n",
    "def seasonality(time, period, amplitude=1, phase=0):\n",
    "    \"\"\"Repeats the same pattern at each period\"\"\"\n",
    "    season_time = ((time + phase) % period) / period\n",
    "    return amplitude * seasonal_pattern(season_time)\n",
    "\n",
    "def noise(time, noise_level=1, seed=None):\n",
    "    rnd = np.random.RandomState(seed)\n",
    "    return rnd.randn(len(time)) * noise_level\n",
    "\n",
    "time = np.arange(4 * 365 + 1, dtype=\"float32\")\n",
    "baseline = 10\n",
    "series = trend(time, 0.1)  \n",
    "baseline = 10\n",
    "amplitude = 40\n",
    "slope = 0.05\n",
    "noise_level = 5\n",
    "\n",
    "# Create the series\n",
    "series = baseline + trend(time, slope) + seasonality(time, period=365, amplitude=amplitude)\n",
    "# Update with noise\n",
    "series += noise(time, noise_level, seed=42)\n",
    "\n",
    "series = np.array(df['11th Ave[1-0]'])[:4*365+1]\n",
    "\n",
    "plt.figure(figsize=(10, 6))\n",
    "plot_series(time, series)\n",
    "plt.show()\n"
   ]
  },
  {
   "cell_type": "code",
   "execution_count": null,
   "id": "f848683b",
   "metadata": {},
   "outputs": [],
   "source": [
    "split_time = 1000\n",
    "time_train = time[:split_time]\n",
    "x_train = series[:split_time]\n",
    "time_valid = time[split_time:]\n",
    "x_valid = series[split_time:]\n",
    "plt.figure(figsize=(10, 6))\n",
    "plot_series(time_train, x_train)\n",
    "plt.show()\n",
    "\n",
    "plt.figure(figsize=(10, 6))\n",
    "plot_series(time_valid, x_valid)\n",
    "plt.show()\n"
   ]
  },
  {
   "cell_type": "markdown",
   "id": "1735b483",
   "metadata": {},
   "source": [
    "# Native Forecast"
   ]
  },
  {
   "cell_type": "code",
   "execution_count": null,
   "id": "c6530112",
   "metadata": {},
   "outputs": [],
   "source": [
    "naive_forecast = series[split_time - 1:-1]\n",
    "plt.figure(figsize=(10, 6))\n",
    "plot_series(time_valid, x_valid)\n",
    "plot_series(time_valid, naive_forecast)\n"
   ]
  },
  {
   "cell_type": "markdown",
   "id": "16b65fe1",
   "metadata": {},
   "source": [
    "# Zoom in"
   ]
  },
  {
   "cell_type": "code",
   "execution_count": null,
   "id": "8e5c2bbe",
   "metadata": {},
   "outputs": [],
   "source": [
    "plt.figure(figsize=(10, 6))\n",
    "plot_series(time_valid, x_valid, start=0, end=150)\n",
    "plot_series(time_valid, naive_forecast, start=1, end=151)"
   ]
  },
  {
   "cell_type": "markdown",
   "id": "2fe727fb",
   "metadata": {},
   "source": [
    "# Mean Sq Error / Mean Absolute Error"
   ]
  },
  {
   "cell_type": "code",
   "execution_count": null,
   "id": "3245106d",
   "metadata": {},
   "outputs": [],
   "source": [
    "print(\"Mean Squared Error: \", keras.metrics.mean_squared_error(x_valid,naive_forecast).numpy())\n",
    "print(\"Mean Absolute Error\", keras.metrics.mean_absolute_error(x_valid, naive_forecast).numpy())\n"
   ]
  },
  {
   "cell_type": "markdown",
   "id": "1401e525",
   "metadata": {},
   "source": [
    "### Try moving average (MSE > 5)"
   ]
  },
  {
   "cell_type": "code",
   "execution_count": null,
   "id": "04557435",
   "metadata": {},
   "outputs": [],
   "source": [
    "def moving_average_forecast(series, window_size):\n",
    "  \"\"\"Forecasts the mean of the last few values.\n",
    "     If window_size=1, then this is equivalent to naive forecast\"\"\"\n",
    "  forecast = []\n",
    "  for time in range(len(series) - window_size):\n",
    "    forecast.append(series[time:time + window_size].mean())\n",
    "  return np.array(forecast)\n",
    "\n",
    "moving_avg = moving_average_forecast(series, 10)[split_time - 10:]\n",
    "plt.figure(figsize=(10, 6))\n",
    "plot_series(time_valid, x_valid)\n",
    "plot_series(time_valid, moving_avg) "
   ]
  },
  {
   "cell_type": "markdown",
   "id": "834bc977",
   "metadata": {},
   "source": [
    "Above: Forecast line after applying moving average.\n",
    "Check MSE and MAE again."
   ]
  },
  {
   "cell_type": "code",
   "execution_count": null,
   "id": "924f41cf",
   "metadata": {},
   "outputs": [],
   "source": [
    "print(\"Mean Squared Error: \", keras.metrics.mean_squared_error(x_valid, moving_avg).numpy())\n",
    "print(\"Mean Absolute Error\", keras.metrics.mean_absolute_error(x_valid, moving_avg).numpy())"
   ]
  },
  {
   "cell_type": "markdown",
   "id": "0c88d81e",
   "metadata": {},
   "source": [
    "We got a mean absolute error value of 7.14 which is worse than the naive forecasting value. It happened because it does not anticipate for trend and seasonality. To solve this issue we'll use differencing. Since the seasonality period is 365 days, we will subtract the value at time t – 365 from the value at time t."
   ]
  },
  {
   "cell_type": "code",
   "execution_count": null,
   "id": "5acce531",
   "metadata": {},
   "outputs": [],
   "source": [
    "diff_series = (series[365:] - series[:-365])\n",
    "diff_time = time[365:]\n",
    "\n",
    "diff_moving_avg = moving_average_forecast(diff_series, 50)[split_time - 365 - 50:]\n",
    "\n",
    "plt.figure(figsize=(10, 6))\n",
    "plot_series(time_valid, diff_series[split_time - 365:])\n",
    "plot_series(time_valid, diff_moving_avg)\n",
    "plt.show()\n"
   ]
  },
  {
   "cell_type": "markdown",
   "id": "879776ec",
   "metadata": {},
   "source": [
    "Now let's bring back the trend and seasonality by adding the past values from t – 365:"
   ]
  },
  {
   "cell_type": "code",
   "execution_count": null,
   "id": "3da0091a",
   "metadata": {},
   "outputs": [],
   "source": [
    "diff_moving_avg_plus_past = series[split_time - 365:-365] + diff_moving_avg\n",
    "\n",
    "plt.figure(figsize=(10, 6))\n",
    "plot_series(time_valid, x_valid)\n",
    "plot_series(time_valid, diff_moving_avg_plus_past)\n",
    "plt.show()\n"
   ]
  },
  {
   "cell_type": "code",
   "execution_count": null,
   "id": "69e603a0",
   "metadata": {},
   "outputs": [],
   "source": [
    "print(\"Mean Squared Error: \", keras.metrics.mean_squared_error(x_valid, diff_moving_avg_plus_past).numpy())\n",
    "print(\"Mean Absolute Error: \", keras.metrics.mean_absolute_error(x_valid, diff_moving_avg_plus_past).numpy())\n"
   ]
  },
  {
   "cell_type": "markdown",
   "id": "52ba1761",
   "metadata": {},
   "source": [
    "Better than naive forecast, good. However the forecasts look a bit too random, because we're just adding past values, which were noisy. Let's use a moving averaging on past values to remove some of the noise:"
   ]
  },
  {
   "cell_type": "code",
   "execution_count": null,
   "id": "5dfdb881",
   "metadata": {},
   "outputs": [],
   "source": [
    "diff_moving_avg_plus_smooth_past = moving_average_forecast(series[split_time - 370:-360], 10) + diff_moving_avg\n",
    "\n",
    "plt.figure(figsize=(10, 6))\n",
    "plot_series(time_valid, x_valid)\n",
    "plot_series(time_valid, diff_moving_avg_plus_smooth_past)\n",
    "plt.show()\n"
   ]
  },
  {
   "cell_type": "code",
   "execution_count": null,
   "id": "c82d7863",
   "metadata": {},
   "outputs": [],
   "source": [
    "print(keras.metrics.mean_squared_error(x_valid, diff_moving_avg_plus_smooth_past).numpy())\n",
    "print(keras.metrics.mean_absolute_error(x_valid, diff_moving_avg_plus_smooth_past).numpy())"
   ]
  },
  {
   "cell_type": "code",
   "execution_count": null,
   "id": "fb2f9867",
   "metadata": {},
   "outputs": [],
   "source": []
  }
 ],
 "metadata": {
  "kernelspec": {
   "display_name": "Python 3 (ipykernel)",
   "language": "python",
   "name": "python3"
  },
  "language_info": {
   "codemirror_mode": {
    "name": "ipython",
    "version": 3
   },
   "file_extension": ".py",
   "mimetype": "text/x-python",
   "name": "python",
   "nbconvert_exporter": "python",
   "pygments_lexer": "ipython3",
   "version": "3.9.12"
  }
 },
 "nbformat": 4,
 "nbformat_minor": 5
}
