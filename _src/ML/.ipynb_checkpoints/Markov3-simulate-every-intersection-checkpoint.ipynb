{
 "cells": [
  {
   "cell_type": "code",
   "execution_count": null,
   "id": "5453e00e",
   "metadata": {},
   "outputs": [],
   "source": [
    "#https://ipython-books.github.io/131-simulating-a-discrete-time-markov-chain/"
   ]
  },
  {
   "cell_type": "code",
   "execution_count": 9,
   "id": "e093f570",
   "metadata": {},
   "outputs": [],
   "source": [
    "import numpy as np\n",
    "import matplotlib.pyplot as plt\n",
    "%matplotlib inline"
   ]
  },
  {
   "cell_type": "code",
   "execution_count": 10,
   "id": "0bf0a4e9",
   "metadata": {},
   "outputs": [],
   "source": [
    "N = 100  # maximum population size\n",
    "a = .5 / N  # birth rate\n",
    "b = .5 / N  # death rate"
   ]
  },
  {
   "cell_type": "code",
   "execution_count": 11,
   "id": "aefc8d58",
   "metadata": {},
   "outputs": [],
   "source": [
    "nsteps = 1000\n",
    "x = np.zeros(nsteps)\n",
    "x[0] = 25"
   ]
  },
  {
   "cell_type": "code",
   "execution_count": 12,
   "id": "f1587d70",
   "metadata": {},
   "outputs": [],
   "source": [
    "for t in range(nsteps - 1):\n",
    "    if 0 < x[t] < N - 1:\n",
    "        # Is there a birth?\n",
    "        birth = np.random.rand() <= a * x[t]\n",
    "        # Is there a death?\n",
    "        death = np.random.rand() <= b * x[t]\n",
    "        # We update the population size.\n",
    "        x[t + 1] = x[t] + 1 * birth - 1 * death\n",
    "    # The evolution stops if we reach $0$ or $N$.\n",
    "    else:\n",
    "        x[t + 1] = x[t]"
   ]
  },
  {
   "cell_type": "code",
   "execution_count": 13,
   "id": "0ca06bd3",
   "metadata": {},
   "outputs": [
    {
     "data": {
      "text/plain": [
       "[<matplotlib.lines.Line2D at 0x1187aff40>]"
      ]
     },
     "execution_count": 13,
     "metadata": {},
     "output_type": "execute_result"
    },
    {
     "data": {
      "image/png": "[encoded data removed]",
      "text/plain": [
       "<Figure size 576x288 with 1 Axes>"
      ]
     },
     "metadata": {
      "needs_background": "light"
     },
     "output_type": "display_data"
    }
   ],
   "source": [
    "fig, ax = plt.subplots(1, 1, figsize=(8, 4))\n",
    "ax.plot(x, lw=2)"
   ]
  },
  {
   "cell_type": "markdown",
   "id": "6dd73bee",
   "metadata": {},
   "source": [
    "Now, we will simulate many independent trials of this Markov chain. We could run the previous simulation with a loop, but it would be very slow (two nested for loops). Instead, we vectorize the simulation by considering all independent trials at once. There is a single loop over time. At every time step, we update all trials simultaneously with vectorized operations on vectors. The x vector now contains the population size of all trials, at a particular time. At initialization time, the population sizes are set to random numbers between 0 and N:"
   ]
  },
  {
   "cell_type": "code",
   "execution_count": 14,
   "id": "b6ad8b77",
   "metadata": {},
   "outputs": [],
   "source": [
    "ntrials = 100\n",
    "x = np.random.randint(size=ntrials,\n",
    "                      low=0, high=N)"
   ]
  },
  {
   "cell_type": "markdown",
   "id": "b86ff2a0",
   "metadata": {},
   "source": [
    "We define a function that performs the simulation. At every time step, we find the trials that undergo births and deaths by generating random vectors, and we update the population sizes with vector operations:"
   ]
  },
  {
   "cell_type": "code",
   "execution_count": 15,
   "id": "a959ee90",
   "metadata": {},
   "outputs": [],
   "source": [
    "def simulate(x, nsteps):\n",
    "    \"\"\"Run the simulation.\"\"\"\n",
    "    for _ in range(nsteps - 1):\n",
    "        # Which trials to update?\n",
    "        upd = (0 < x) & (x < N - 1)\n",
    "        # In which trials do births occur?\n",
    "        birth = 1 * (np.random.rand(ntrials) <= a * x)\n",
    "        # In which trials do deaths occur?\n",
    "        death = 1 * (np.random.rand(ntrials) <= b * x)\n",
    "        # We update the population size for all trials\n",
    "        x[upd] += birth[upd] - death[upd]"
   ]
  },
  {
   "cell_type": "markdown",
   "id": "e998ce15",
   "metadata": {},
   "source": [
    "Now, let's look at the histograms of the population size at different times. These histograms represent the probability distribution of the Markov chain, estimated with independent trials (the Monte Carlo method):"
   ]
  },
  {
   "cell_type": "code",
   "execution_count": 16,
   "id": "79470f77",
   "metadata": {},
   "outputs": [
    {
     "data": {
      "image/png": "[encoded data removed]",
      "text/plain": [
       "<Figure size 864x216 with 3 Axes>"
      ]
     },
     "metadata": {
      "needs_background": "light"
     },
     "output_type": "display_data"
    }
   ],
   "source": [
    "bins = np.linspace(0, N, 25)\n",
    "\n",
    "nsteps_list = [10, 1000, 10000]\n",
    "fig, axes = plt.subplots(1, len(nsteps_list),\n",
    "                         figsize=(12, 3),\n",
    "                         sharey=True)\n",
    "for i, nsteps in enumerate(nsteps_list):\n",
    "    ax = axes[i]\n",
    "    simulate(x, nsteps)\n",
    "    ax.hist(x, bins=bins)\n",
    "    ax.set_xlabel(\"Population size\")\n",
    "    if i == 0:\n",
    "        ax.set_ylabel(\"Histogram\")\n",
    "    ax.set_title(f\"{nsteps} time steps\")\n"
   ]
  },
  {
   "cell_type": "code",
   "execution_count": null,
   "id": "41c87fdc",
   "metadata": {},
   "outputs": [],
   "source": []
  }
 ],
 "metadata": {
  "kernelspec": {
   "display_name": "Python 3 (ipykernel)",
   "language": "python",
   "name": "python3"
  },
  "language_info": {
   "codemirror_mode": {
    "name": "ipython",
    "version": 3
   },
   "file_extension": ".py",
   "mimetype": "text/x-python",
   "name": "python",
   "nbconvert_exporter": "python",
   "pygments_lexer": "ipython3",
   "version": "3.9.12"
  }
 },
 "nbformat": 4,
 "nbformat_minor": 5
}
