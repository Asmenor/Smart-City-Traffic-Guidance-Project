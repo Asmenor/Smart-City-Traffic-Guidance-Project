{
 "cells": [
  {
   "cell_type": "code",
   "execution_count": 2,
   "id": "a769708f",
   "metadata": {},
   "outputs": [],
   "source": [
    "#https://ipython-books.github.io/131-simulating-a-discrete-time-markov-chain/"
   ]
  },
  {
   "cell_type": "code",
   "execution_count": 3,
   "id": "eddcc52a",
   "metadata": {},
   "outputs": [],
   "source": [
    "import numpy as np\n",
    "import matplotlib.pyplot as plt\n",
    "%matplotlib inline"
   ]
  },
  {
   "cell_type": "code",
   "execution_count": 4,
   "id": "05ff1802",
   "metadata": {},
   "outputs": [],
   "source": [
    "def calc_plot(arr,dep,x,steps):\n",
    "\n",
    "    N = 100  # maximum number of cars at an intersection\n",
    "    a = arr / N  # car arrival rate\n",
    "    b = dep / N  # car departure rate\n",
    "\n",
    "    for t in range(nsteps - 1):\n",
    "        if 0 < x[t] < N - 1:\n",
    "            # Is there an arrival?\n",
    "            birth = np.random.default_rng().uniform(0, 1/2) <= a * x[t]\n",
    "            # Is there a departure?\n",
    "            death = np.random.default_rng().uniform(0, 1/2) <= b * x[t]\n",
    "            # We update the population size.\n",
    "            x[t + 1] = x[t] + 1 * birth - 1 * death\n",
    "\n",
    "\n",
    "        # The evolution stops if we reach $0$ or $N$.\n",
    "        else:\n",
    "            x[t + 1] = x[t]\n",
    "\n",
    "    return x"
   ]
  },
  {
   "cell_type": "code",
   "execution_count": 20,
   "id": "60b0a27e",
   "metadata": {},
   "outputs": [
    {
     "data": {
      "image/png": "[encoded data removed]",
      "text/plain": [
       "<Figure size 864x576 with 3 Axes>"
      ]
     },
     "metadata": {},
     "output_type": "display_data"
    }
   ],
   "source": [
    "a_m = [0.2, 0.5, 0.7]\n",
    "plot_data = []\n",
    "\n",
    "\n",
    "\n",
    "for i in range(3):\n",
    "    nsteps = 100\n",
    "    x = np.zeros(nsteps)\n",
    "    x[0] = 5\n",
    "    plot_data.append(calc_plot(a_m[i],1-a_m[i],x,nsteps))\n",
    "\n",
    "fig, ax = plt.subplots(1, 1, figsize=(12, 8))\n",
    "ax.plot(x, lw=2)\n",
    "plt.style.use('ggplot')\n",
    "ax1 = plt.subplot(311)\n",
    "plt.plot(plot_data[0],color='black')\n",
    "plt.tick_params('x', labelsize=14)\n",
    "plt.tick_params('y', labelsize=14)\n",
    "\n",
    "# share x only\n",
    "ax2 = plt.subplot(312, sharex=ax1)\n",
    "plt.plot(plot_data[1],color='black')\n",
    "# make these tick labels invisible\n",
    "#plt.tick_params('x', labelbottom=False)\n",
    "plt.tick_params('x', labelsize=14)\n",
    "plt.tick_params('y', labelsize=14)\n",
    "\n",
    "\n",
    "# share x and y\n",
    "ax3 = plt.subplot(313, sharex=ax1, sharey=ax1)\n",
    "plt.plot(plot_data[2],color='black')\n",
    "#plt.xlim(0.01, 5.0)\n",
    "plt.tick_params('x', labelsize=14)\n",
    "plt.tick_params('y', labelsize=14)\n",
    "plt.xlabel(\"Time steps\", fontsize=16)\n",
    "plt.ylabel(\"# of Cars\", fontsize=16)\n",
    "plt.show()"
   ]
  },
  {
   "cell_type": "markdown",
   "id": "e5aee2e6",
   "metadata": {},
   "source": [
    "Now, we will simulate many independent trials of this Markov chain. We could run the previous simulation with a loop, but it would be very slow (two nested for loops). Instead, we vectorize the simulation by considering all independent trials at once. There is a single loop over time. At every time step, we update all trials simultaneously with vectorized operations on vectors. The x vector now contains the population size of all trials, at a particular time. At initialization time, the population sizes are set to random numbers between 0 and N:"
   ]
  },
  {
   "cell_type": "code",
   "execution_count": 6,
   "id": "0ae21b4c",
   "metadata": {},
   "outputs": [
    {
     "name": "stdout",
     "output_type": "stream",
     "text": [
      "[24 77 91 80 43 42 65 41 55 52 23 33 47 53 17 98 85 28 93  4 79 55 68 77\n",
      " 36  4 99 18 49 23 83 40 10 12 91 38 51 30  1 76 75 13 89  1  0 26 23 90\n",
      " 88 13  7 26 61 91 37 50 62 80 97 13 94 41 61 15  9 91 89 88 27 62 62 58\n",
      "  5 50 26 65 30 58  5 90  8 89 33 19  2 15 76  5 51 40 79 48 38 72 24 36\n",
      " 21  4 50 45]\n"
     ]
    }
   ],
   "source": [
    "N = 100  # maximum number of cars at an intersection\n",
    "a = 0.5 / N  # car arrival rate\n",
    "b = 0.5 / N  # car departure rate\n",
    "ntrials = 100\n",
    "\n",
    "x = np.random.randint(size=ntrials, low=0, high=N)\n",
    "print(x)\n",
    "#x = np.random.pareto(3, ntrials)\n",
    "#x = [round(i) for i in x]\n",
    "#print(x)"
   ]
  },
  {
   "cell_type": "markdown",
   "id": "7c54801c",
   "metadata": {},
   "source": [
    "We define a function that performs the simulation. At every time step, we find the trials that undergo births and deaths by generating random vectors, and we update the population sizes with vector operations:"
   ]
  },
  {
   "cell_type": "code",
   "execution_count": 7,
   "id": "f040893a",
   "metadata": {},
   "outputs": [],
   "source": [
    "def simulate(x, nsteps,a,b):\n",
    "    \"\"\"Run the simulation.\"\"\"\n",
    "    for _ in range(nsteps - 1):\n",
    "        # Which trials to update?\n",
    "        upd = (0 < x) & (x < N - 1)\n",
    "        # In which trials do births occur?\n",
    "        ####birth = 1 * (np.random.rand(ntrials) <= a * x)\n",
    "        birth = 1 * (np.random.pareto(ntrials) <= a * x)\n",
    "        # In which trials do deaths occur?\n",
    "        ####death = 1 * (np.random.rand(ntrials) <= b * x)\n",
    "        death = 1 * (np.random.pareto(ntrials) <= b * x)\n",
    "        # We update the population size for all trials\n",
    "        x[upd] += birth[upd] - death[upd]"
   ]
  },
  {
   "cell_type": "markdown",
   "id": "6f4ae7f7",
   "metadata": {},
   "source": [
    "Now, let's look at the histograms of the population size at different times. These histograms represent the probability distribution of the Markov chain, estimated with independent trials (the Monte Carlo method):"
   ]
  },
  {
   "cell_type": "code",
   "execution_count": 8,
   "id": "cae73f20",
   "metadata": {},
   "outputs": [
    {
     "data": {
      "text/plain": [
       "Text(0.5, 0.98, 'Population size')"
      ]
     },
     "execution_count": 8,
     "metadata": {},
     "output_type": "execute_result"
    },
    {
     "data": {
      "image/png": "[encoded data removed]",
      "text/plain": [
       "<Figure size 432x216 with 3 Axes>"
      ]
     },
     "metadata": {
      "needs_background": "light"
     },
     "output_type": "display_data"
    }
   ],
   "source": [
    "bins = np.linspace(0, N, 25)\n",
    "\n",
    "nsteps_list = [10, 1000, 10000]#, 100000, 1000000]\n",
    "fig, axes = plt.subplots(3, #len(nsteps_list),\n",
    "                         figsize=(6, 3),\n",
    "                         sharex=True)\n",
    "for i, nsteps in enumerate(nsteps_list):\n",
    "    ax = axes[i]\n",
    "    simulate(x, nsteps,a,b)\n",
    "    #print(x, \"\\nAVG: \", np.average(x))\n",
    "    ax.hist(x, bins=bins, color='black')\n",
    "    #ax.plot(x, color='black')\n",
    "    #ax.set_xlabel(\"Population size\")\n",
    "    ax.set_ylabel(f\"t+{nsteps}\")\n",
    "\n",
    "fig.suptitle(\"Population size\")\n",
    "#ax.grid(True)"
   ]
  },
  {
   "cell_type": "markdown",
   "id": "32477f88",
   "metadata": {},
   "source": [
    "## Simulate Map"
   ]
  },
  {
   "cell_type": "code",
   "execution_count": null,
   "id": "a985b370",
   "metadata": {},
   "outputs": [],
   "source": []
  },
  {
   "cell_type": "code",
   "execution_count": null,
   "id": "4485bcdf",
   "metadata": {},
   "outputs": [],
   "source": []
  },
  {
   "cell_type": "code",
   "execution_count": 9,
   "id": "382d889d",
   "metadata": {},
   "outputs": [],
   "source": [
    "#LATEST 9/19"
   ]
  }
 ],
 "metadata": {
  "kernelspec": {
   "display_name": "Python 3 (ipykernel)",
   "language": "python",
   "name": "python3"
  },
  "language_info": {
   "codemirror_mode": {
    "name": "ipython",
    "version": 3
   },
   "file_extension": ".py",
   "mimetype": "text/x-python",
   "name": "python",
   "nbconvert_exporter": "python",
   "pygments_lexer": "ipython3",
   "version": "3.9.12"
  }
 },
 "nbformat": 4,
 "nbformat_minor": 5
}
