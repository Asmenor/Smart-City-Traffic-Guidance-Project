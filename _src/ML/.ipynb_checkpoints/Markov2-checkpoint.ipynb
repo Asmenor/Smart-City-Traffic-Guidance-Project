{
 "cells": [
  {
   "cell_type": "code",
   "execution_count": null,
   "id": "7e326e6c",
   "metadata": {},
   "outputs": [],
   "source": [
    "#https://stackoverflow.com/questions/47330244/generating-random-transition-probability-matrix-python\n",
    "#https://docs.python.org/3/library/random.html"
   ]
  },
  {
   "cell_type": "code",
   "execution_count": 1,
   "id": "03f0d614",
   "metadata": {},
   "outputs": [
    {
     "name": "stdout",
     "output_type": "stream",
     "text": [
      "[0.01270253223859491, 0.0259666683291597, 0.9613307994322454]\n",
      "1.0\n",
      "[0.017507514092988914, 0.028673600621302767, 0.9538188852857084]\n",
      "1.0\n",
      "[0.0013403964379051373, 0.021175799701561464, 0.9774838038605334]\n",
      "1.0\n"
     ]
    }
   ],
   "source": [
    "#Generate Transition Matrix\n",
    "\n",
    "import random\n",
    "\n",
    "\n",
    "transition_matrix = []\n",
    "\n",
    "def gen_state_prob(k=3, alpha = 4):\n",
    "    k = 3\n",
    "    alpha = 4\n",
    "    result = []\n",
    "\n",
    "    result = [[random.uniform(0, 0.1 / k) for i in range(k)] for j in range(k)]\n",
    "    #result = [[random.expovariate(alpha/k) for i in range(k)] for j in range(k)]\n",
    "\n",
    "\n",
    "    for j, r in enumerate(result):\n",
    "        r[j] += 1 - sum(r)\n",
    "\n",
    "    print(r)\n",
    "    print(sum(r))\n",
    "    return r\n",
    "\n",
    "for i in range(3):\n",
    "    transition_matrix.append(gen_state_prob(3,random.randint(1,4)))\n",
    "    "
   ]
  },
  {
   "cell_type": "code",
   "execution_count": 2,
   "id": "e338befb",
   "metadata": {},
   "outputs": [],
   "source": [
    "#https://medium.com/@__amol__/markov-chains-with-python-1109663f3678"
   ]
  },
  {
   "cell_type": "code",
   "execution_count": 3,
   "id": "cfaa793d",
   "metadata": {},
   "outputs": [],
   "source": [
    "import numpy as np\n",
    " \n",
    "class MarkovChain(object):\n",
    "    def __init__(self, transition_matrix, states):\n",
    "        \"\"\"\n",
    "        Initialize the MarkovChain instance.\n",
    " \n",
    "        Parameters\n",
    "        ----------\n",
    "        transition_matrix: 2-D array\n",
    "            A 2-D array representing the probabilities of change of \n",
    "            state in the Markov Chain.\n",
    " \n",
    "        states: 1-D array \n",
    "            An array representing the states of the Markov Chain. It\n",
    "            needs to be in the same order as transition_matrix.\n",
    "        \"\"\"\n",
    "        self.transition_matrix = np.atleast_2d(transition_matrix)\n",
    "        self.states = states\n",
    "        self.index_dict = {self.states[index]: index for index in \n",
    "                           range(len(self.states))}\n",
    "        self.state_dict = {index: self.states[index] for index in\n",
    "                           range(len(self.states))}\n",
    " \n",
    "    def next_state(self, current_state):\n",
    "        \"\"\"\n",
    "        Returns the state of the random variable at the next time \n",
    "        instance.\n",
    " \n",
    "        Parameters\n",
    "        ----------\n",
    "        current_state: str\n",
    "            The current state of the system.\n",
    "        \"\"\"\n",
    "        return np.random.choice(\n",
    "         self.states, \n",
    "         p=self.transition_matrix[self.index_dict[current_state], :]\n",
    "        )\n",
    " \n",
    "    def generate_states(self, current_state, no=10):\n",
    "        \"\"\"\n",
    "        Generates the next states of the system.\n",
    " \n",
    "        Parameters\n",
    "        ----------\n",
    "        current_state: str\n",
    "            The state of the current random variable.\n",
    " \n",
    "        no: int\n",
    "            The number of future states to generate.\n",
    "        \"\"\"\n",
    "        future_states = []\n",
    "        for i in range(no):\n",
    "            next_state = self.next_state(current_state)\n",
    "            future_states.append(next_state)\n",
    "            current_state = next_state\n",
    "        return future_states"
   ]
  },
  {
   "cell_type": "code",
   "execution_count": null,
   "id": "d2d79953",
   "metadata": {},
   "outputs": [],
   "source": [
    "'''\n",
    "transition_matrix = [[0.1, 0.9, 0.0], \n",
    "                     [0.0, 0.1, 0.9], \n",
    "                     [0.0, 0.0, 0.1]]\n",
    "'''\n",
    "\n",
    "traffic_chain = MarkovChain(transition_matrix=transition_matrix,\n",
    "                                states=['44', '43', '42'])\n",
    "\n",
    "print(\"Transition Matrix:\\n\")\n",
    "for x in transition_matrix:\n",
    "    print(x)"
   ]
  },
  {
   "cell_type": "code",
   "execution_count": 5,
   "id": "b7ec8150",
   "metadata": {},
   "outputs": [
    {
     "data": {
      "text/plain": [
       "'42'"
      ]
     },
     "execution_count": 5,
     "metadata": {},
     "output_type": "execute_result"
    }
   ],
   "source": [
    "traffic_chain.next_state(current_state='44')"
   ]
  },
  {
   "cell_type": "markdown",
   "id": "e4af7dbb",
   "metadata": {},
   "source": [
    "## Simulate"
   ]
  },
  {
   "cell_type": "code",
   "execution_count": 6,
   "id": "252409d3",
   "metadata": {},
   "outputs": [],
   "source": [
    "#https://vknight.org/unpeudemath/code/2015/08/01/simulating_continuous_markov_chains.html"
   ]
  },
  {
   "cell_type": "code",
   "execution_count": null,
   "id": "c13ba761",
   "metadata": {},
   "outputs": [],
   "source": [
    "oo = 0\n",
    "\n",
    "def sample_from_rate(rate):\n",
    "    import random\n",
    "    if rate == 0:\n",
    "        return oo\n",
    "    return random.expovariate(rate)\n",
    "\n",
    "def simulate_cmc(Q, time, warm_up):\n",
    "    #Q = list(Q)  # In case a matrix is input\n",
    "    state_space = range(len(Q))  # Index the state space\n",
    "    time_spent = {s:0 for s in state_space}  # Set up a dictionary to keep track of time\n",
    "    clock = 0  # Keep track of the clock\n",
    "    current_state = 0  # First state\n",
    "    while clock < time:\n",
    "        # Sample the transitions\n",
    "        sojourn_times = [sample_from_rate(rate) for rate in Q[current_state][:current_state]]\n",
    "        sojourn_times += [oo]  # An infinite sojourn to the same state\n",
    "        sojourn_times += [sample_from_rate(rate) for rate in Q[current_state][current_state + 1:]]\n",
    "\n",
    "        # Identify the next state\n",
    "        next_state = min(state_space, key=lambda x: sojourn_times[x])\n",
    "        sojourn = sojourn_times[next_state]\n",
    "        clock += sojourn\n",
    "        if clock > warm_up:  # Keep track if past warm up time\n",
    "            time_spent[current_state] += sojourn\n",
    "        current_state = next_state  # Transition\n",
    "\n",
    "    pi = [time_spent[state] / sum(time_spent.values()) for state in state_space]  # Calculate probabilities\n",
    "    return pi\n",
    "\n",
    "#Q = matrix(QQ, [[-3, 2, 1], [1, -5, 4], [1, 8, -9]])\n",
    "print(\"Result: \", simulate_cmc(transition_matrix, 3000, 500))"
   ]
  },
  {
   "cell_type": "code",
   "execution_count": null,
   "id": "a5fdc5bd",
   "metadata": {},
   "outputs": [],
   "source": []
  }
 ],
 "metadata": {
  "kernelspec": {
   "display_name": "Python 3 (ipykernel)",
   "language": "python",
   "name": "python3"
  },
  "language_info": {
   "codemirror_mode": {
    "name": "ipython",
    "version": 3
   },
   "file_extension": ".py",
   "mimetype": "text/x-python",
   "name": "python",
   "nbconvert_exporter": "python",
   "pygments_lexer": "ipython3",
   "version": "3.9.12"
  }
 },
 "nbformat": 4,
 "nbformat_minor": 5
}
