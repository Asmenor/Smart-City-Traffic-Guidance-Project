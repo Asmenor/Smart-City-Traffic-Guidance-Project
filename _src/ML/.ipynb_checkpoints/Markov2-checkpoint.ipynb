{
 "cells": [
  {
   "cell_type": "code",
   "execution_count": null,
   "id": "7e326e6c",
   "metadata": {},
   "outputs": [],
   "source": [
    "#https://stackoverflow.com/questions/47330244/generating-random-transition-probability-matrix-python\n",
    "#https://docs.python.org/3/library/random.html\n",
    "#ref: https://www.datacamp.com/tutorial/markov-chains-python-tutorial"
   ]
  },
  {
   "cell_type": "code",
   "execution_count": 47,
   "id": "03f0d614",
   "metadata": {},
   "outputs": [
    {
     "name": "stdout",
     "output_type": "stream",
     "text": [
      "Transition Matrix:\n",
      "\n",
      "[0.1501657812871906, 0.029620572449999084, 0.8202136462628103]\n",
      "[0.21407663738400617, 0.1283678532252867, 0.6575555093907071]\n",
      "[0.09565391689982997, 0.1342793522171538, 0.7700667308830162]\n"
     ]
    }
   ],
   "source": [
    "#Generate Transition Matrix\n",
    "import numpy as np\n",
    "import random\n",
    "\n",
    "\n",
    "transition_matrix = []\n",
    "\n",
    "def gen_state_prob(k=3, alpha = 4):\n",
    "    k = 3\n",
    "    #alpha = 4\n",
    "    a, m = 3., 1.\n",
    "    result = []\n",
    "\n",
    "    #result = [[np.random.default_rng().uniform(0, 0.1 / k) for i in range(k)] for j in range(k)]\n",
    "    result = [[np.random.default_rng().uniform(0, 1/k) for i in range(k)] for j in range(k)]\n",
    "    \n",
    "    #result = [[random.expovariate(alpha/k) for i in range(k)] for j in range(k)]\n",
    "    #result = [[(np.random.default_rng().pareto(a, 3) + 1) * m for i in range(k)] for j in range(k)]\n",
    "\n",
    "    #print(result)\n",
    "    #return\n",
    "    \n",
    "    for j, r in enumerate(result):\n",
    "        r[j] += 1 - sum(r)\n",
    "\n",
    "    return r\n",
    "\n",
    "for i in range(3):\n",
    "    transition_matrix.append(gen_state_prob(3,random.randint(1,4)))\n",
    "    \n",
    "print(\"Transition Matrix:\\n\")\n",
    "for x in transition_matrix:\n",
    "    print(x)\n",
    "    "
   ]
  },
  {
   "cell_type": "code",
   "execution_count": 43,
   "id": "e338befb",
   "metadata": {},
   "outputs": [],
   "source": [
    "#https://medium.com/@__amol__/markov-chains-with-python-1109663f3678"
   ]
  },
  {
   "cell_type": "code",
   "execution_count": 44,
   "id": "cfaa793d",
   "metadata": {},
   "outputs": [],
   "source": [
    "import numpy as np\n",
    " \n",
    "class MarkovChain(object):\n",
    "    def __init__(self, transition_matrix, states):\n",
    "        \"\"\"\n",
    "        Initialize the MarkovChain instance.\n",
    " \n",
    "        Parameters\n",
    "        ----------\n",
    "        transition_matrix: 2-D array\n",
    "            A 2-D array representing the probabilities of change of \n",
    "            state in the Markov Chain.\n",
    " \n",
    "        states: 1-D array \n",
    "            An array representing the states of the Markov Chain. It\n",
    "            needs to be in the same order as transition_matrix.\n",
    "        \"\"\"\n",
    "        self.transition_matrix = np.atleast_2d(transition_matrix)\n",
    "        self.states = states\n",
    "        self.index_dict = {self.states[index]: index for index in \n",
    "                           range(len(self.states))}\n",
    "        self.state_dict = {index: self.states[index] for index in\n",
    "                           range(len(self.states))}\n",
    " \n",
    "    def next_state(self, current_state):\n",
    "        \"\"\"\n",
    "        Returns the state of the random variable at the next time \n",
    "        instance.\n",
    " \n",
    "        Parameters\n",
    "        ----------\n",
    "        current_state: str\n",
    "            The current state of the system.\n",
    "        \"\"\"\n",
    "        return np.random.choice(\n",
    "         self.states, \n",
    "         p=self.transition_matrix[self.index_dict[current_state], :]\n",
    "        )\n",
    " \n",
    "    def generate_states(self, current_state, no=10):\n",
    "        \"\"\"\n",
    "        Generates the next states of the system.\n",
    " \n",
    "        Parameters\n",
    "        ----------\n",
    "        current_state: str\n",
    "            The state of the current random variable.\n",
    " \n",
    "        no: int\n",
    "            The number of future states to generate.\n",
    "        \"\"\"\n",
    "        future_states = []\n",
    "        for i in range(no):\n",
    "            next_state = self.next_state(current_state)\n",
    "            future_states.append(next_state)\n",
    "            current_state = next_state\n",
    "        return future_states"
   ]
  },
  {
   "cell_type": "code",
   "execution_count": 48,
   "id": "d2d79953",
   "metadata": {},
   "outputs": [
    {
     "name": "stdout",
     "output_type": "stream",
     "text": [
      "Transition Matrix:\n",
      "\n",
      "[0.1501657812871906, 0.029620572449999084, 0.8202136462628103]\n",
      "[0.21407663738400617, 0.1283678532252867, 0.6575555093907071]\n",
      "[0.09565391689982997, 0.1342793522171538, 0.7700667308830162]\n"
     ]
    }
   ],
   "source": [
    "'''\n",
    "transition_matrix = [[0.1, 0.9, 0.0], \n",
    "                     [0.0, 0.1, 0.9], \n",
    "                     [0.0, 0.0, 0.1]]\n",
    "'''\n",
    "\n",
    "traffic_chain = MarkovChain(transition_matrix=transition_matrix,\n",
    "                                states=['44', '43', '42'])\n",
    "\n",
    "print(\"Transition Matrix:\\n\")\n",
    "for x in transition_matrix:\n",
    "    print(x)"
   ]
  },
  {
   "cell_type": "code",
   "execution_count": 55,
   "id": "b7ec8150",
   "metadata": {},
   "outputs": [
    {
     "data": {
      "text/plain": [
       "'42'"
      ]
     },
     "execution_count": 55,
     "metadata": {},
     "output_type": "execute_result"
    }
   ],
   "source": [
    "traffic_chain.next_state(current_state='42')"
   ]
  },
  {
   "cell_type": "markdown",
   "id": "e4af7dbb",
   "metadata": {},
   "source": [
    "## Simulate"
   ]
  },
  {
   "cell_type": "code",
   "execution_count": null,
   "id": "252409d3",
   "metadata": {},
   "outputs": [],
   "source": [
    "#https://vknight.org/unpeudemath/code/2015/08/01/simulating_continuous_markov_chains.html"
   ]
  },
  {
   "cell_type": "code",
   "execution_count": 60,
   "id": "c13ba761",
   "metadata": {},
   "outputs": [
    {
     "name": "stdout",
     "output_type": "stream",
     "text": [
      "Transition Matrix:\n",
      "\n",
      "[[0.1501657812871906, 0.029620572449999084, 0.8202136462628103], [0.21407663738400617, 0.1283678532252867, 0.6575555093907071], [0.09565391689982997, 0.1342793522171538, 0.7700667308830162]]\n"
     ]
    },
    {
     "ename": "KeyboardInterrupt",
     "evalue": "",
     "output_type": "error",
     "traceback": [
      "\u001b[0;31m---------------------------------------------------------------------------\u001b[0m",
      "\u001b[0;31mKeyboardInterrupt\u001b[0m                         Traceback (most recent call last)",
      "Input \u001b[0;32mIn [60]\u001b[0m, in \u001b[0;36m<cell line: 38>\u001b[0;34m()\u001b[0m\n\u001b[1;32m     35\u001b[0m \u001b[38;5;28mprint\u001b[39m(\u001b[38;5;124m\"\u001b[39m\u001b[38;5;124mTransition Matrix:\u001b[39m\u001b[38;5;130;01m\\n\u001b[39;00m\u001b[38;5;124m\"\u001b[39m)\n\u001b[1;32m     36\u001b[0m \u001b[38;5;28mprint\u001b[39m(transition_matrix)\n\u001b[0;32m---> 38\u001b[0m \u001b[38;5;28mprint\u001b[39m(\u001b[38;5;124m\"\u001b[39m\u001b[38;5;124mResult: \u001b[39m\u001b[38;5;124m\"\u001b[39m, \u001b[43msimulate_cmc\u001b[49m\u001b[43m(\u001b[49m\u001b[43mtransition_matrix\u001b[49m\u001b[43m,\u001b[49m\u001b[43m \u001b[49m\u001b[38;5;241;43m10\u001b[39;49m\u001b[43m,\u001b[49m\u001b[43m \u001b[49m\u001b[38;5;241;43m10\u001b[39;49m\u001b[43m)\u001b[49m)\n",
      "Input \u001b[0;32mIn [60]\u001b[0m, in \u001b[0;36msimulate_cmc\u001b[0;34m(Q, time, warm_up)\u001b[0m\n\u001b[1;32m     17\u001b[0m sojourn_times \u001b[38;5;241m=\u001b[39m [sample_from_rate(rate) \u001b[38;5;28;01mfor\u001b[39;00m rate \u001b[38;5;129;01min\u001b[39;00m Q[current_state][:current_state]]\n\u001b[1;32m     18\u001b[0m sojourn_times \u001b[38;5;241m+\u001b[39m\u001b[38;5;241m=\u001b[39m [oo]  \u001b[38;5;66;03m# An infinite sojourn to the same state\u001b[39;00m\n\u001b[0;32m---> 19\u001b[0m sojourn_times \u001b[38;5;241m+\u001b[39m\u001b[38;5;241m=\u001b[39m [sample_from_rate(rate) \u001b[38;5;28;01mfor\u001b[39;00m rate \u001b[38;5;129;01min\u001b[39;00m Q[current_state][current_state \u001b[38;5;241m+\u001b[39m \u001b[38;5;241m1\u001b[39m:]]\n\u001b[1;32m     21\u001b[0m \u001b[38;5;66;03m# Identify the next state\u001b[39;00m\n\u001b[1;32m     22\u001b[0m next_state \u001b[38;5;241m=\u001b[39m \u001b[38;5;28mmin\u001b[39m(state_space, key\u001b[38;5;241m=\u001b[39m\u001b[38;5;28;01mlambda\u001b[39;00m x: sojourn_times[x])\n",
      "Input \u001b[0;32mIn [60]\u001b[0m, in \u001b[0;36m<listcomp>\u001b[0;34m(.0)\u001b[0m\n\u001b[1;32m     17\u001b[0m sojourn_times \u001b[38;5;241m=\u001b[39m [sample_from_rate(rate) \u001b[38;5;28;01mfor\u001b[39;00m rate \u001b[38;5;129;01min\u001b[39;00m Q[current_state][:current_state]]\n\u001b[1;32m     18\u001b[0m sojourn_times \u001b[38;5;241m+\u001b[39m\u001b[38;5;241m=\u001b[39m [oo]  \u001b[38;5;66;03m# An infinite sojourn to the same state\u001b[39;00m\n\u001b[0;32m---> 19\u001b[0m sojourn_times \u001b[38;5;241m+\u001b[39m\u001b[38;5;241m=\u001b[39m [\u001b[43msample_from_rate\u001b[49m\u001b[43m(\u001b[49m\u001b[43mrate\u001b[49m\u001b[43m)\u001b[49m \u001b[38;5;28;01mfor\u001b[39;00m rate \u001b[38;5;129;01min\u001b[39;00m Q[current_state][current_state \u001b[38;5;241m+\u001b[39m \u001b[38;5;241m1\u001b[39m:]]\n\u001b[1;32m     21\u001b[0m \u001b[38;5;66;03m# Identify the next state\u001b[39;00m\n\u001b[1;32m     22\u001b[0m next_state \u001b[38;5;241m=\u001b[39m \u001b[38;5;28mmin\u001b[39m(state_space, key\u001b[38;5;241m=\u001b[39m\u001b[38;5;28;01mlambda\u001b[39;00m x: sojourn_times[x])\n",
      "Input \u001b[0;32mIn [60]\u001b[0m, in \u001b[0;36msample_from_rate\u001b[0;34m(rate)\u001b[0m\n\u001b[1;32m      1\u001b[0m oo \u001b[38;5;241m=\u001b[39m \u001b[38;5;241m0\u001b[39m\n\u001b[0;32m----> 3\u001b[0m \u001b[38;5;28;01mdef\u001b[39;00m \u001b[38;5;21msample_from_rate\u001b[39m(rate):\n\u001b[1;32m      4\u001b[0m     \u001b[38;5;28;01mimport\u001b[39;00m \u001b[38;5;21;01mrandom\u001b[39;00m\n\u001b[1;32m      5\u001b[0m     \u001b[38;5;28;01mif\u001b[39;00m rate \u001b[38;5;241m==\u001b[39m \u001b[38;5;241m0\u001b[39m:\n",
      "\u001b[0;31mKeyboardInterrupt\u001b[0m: "
     ]
    }
   ],
   "source": [
    "oo = 0\n",
    "\n",
    "def sample_from_rate(rate):\n",
    "    import random\n",
    "    if rate == 0:\n",
    "        return oo\n",
    "    return random.expovariate(rate)\n",
    "\n",
    "def simulate_cmc(Q, time, warm_up):\n",
    "    #Q = list(Q)  # In case a matrix is input\n",
    "    state_space = range(len(Q))  # Index the state space\n",
    "    time_spent = {s:0 for s in state_space}  # Set up a dictionary to keep track of time\n",
    "    clock = 0  # Keep track of the clock\n",
    "    current_state = 0  # First state\n",
    "    while clock < time:\n",
    "        # Sample the transitions\n",
    "        sojourn_times = [sample_from_rate(rate) for rate in Q[current_state][:current_state]]\n",
    "        sojourn_times += [oo]  # An infinite sojourn to the same state\n",
    "        sojourn_times += [sample_from_rate(rate) for rate in Q[current_state][current_state + 1:]]\n",
    "\n",
    "        # Identify the next state\n",
    "        next_state = min(state_space, key=lambda x: sojourn_times[x])\n",
    "        sojourn = sojourn_times[next_state]\n",
    "        clock += sojourn\n",
    "        if clock > warm_up:  # Keep track if past warm up time\n",
    "            time_spent[current_state] += sojourn\n",
    "        current_state = next_state  # Transition\n",
    "\n",
    "    pi = [time_spent[state] / sum(time_spent.values()) for state in state_space]  # Calculate probabilities\n",
    "    return pi\n",
    "\n",
    "#Q = matrix(QQ, [[-3, 2, 1], [1, -5, 4], [1, 8, -9]])\n",
    "\n",
    "\n",
    "print(\"Transition Matrix:\\n\")\n",
    "print(transition_matrix)\n",
    "\n",
    "print(\"Result: \", simulate_cmc(transition_matrix, 10, 10))"
   ]
  },
  {
   "cell_type": "code",
   "execution_count": 57,
   "id": "02e43ebd",
   "metadata": {},
   "outputs": [
    {
     "name": "stdout",
     "output_type": "stream",
     "text": [
      "1\n"
     ]
    }
   ],
   "source": [
    "print(1)"
   ]
  },
  {
   "cell_type": "code",
   "execution_count": null,
   "id": "3fbb5705",
   "metadata": {},
   "outputs": [],
   "source": []
  }
 ],
 "metadata": {
  "kernelspec": {
   "display_name": "Python 3 (ipykernel)",
   "language": "python",
   "name": "python3"
  },
  "language_info": {
   "codemirror_mode": {
    "name": "ipython",
    "version": 3
   },
   "file_extension": ".py",
   "mimetype": "text/x-python",
   "name": "python",
   "nbconvert_exporter": "python",
   "pygments_lexer": "ipython3",
   "version": "3.9.12"
  }
 },
 "nbformat": 4,
 "nbformat_minor": 5
}
