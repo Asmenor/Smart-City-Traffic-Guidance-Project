{
 "cells": [
  {
   "cell_type": "code",
   "execution_count": 1,
   "id": "7e326e6c",
   "metadata": {},
   "outputs": [],
   "source": [
    "#https://stackoverflow.com/questions/47330244/generating-random-transition-probability-matrix-python\n",
    "#https://docs.python.org/3/library/random.html\n",
    "#ref: https://www.datacamp.com/tutorial/markov-chains-python-tutorial"
   ]
  },
  {
   "cell_type": "code",
   "execution_count": 2,
   "id": "03f0d614",
   "metadata": {},
   "outputs": [],
   "source": [
    "#Generate Transition Matrix\n",
    "import numpy as np\n",
    "import random\n",
    "\n",
    "class Transition:\n",
    "    def __init__(self, K, n):\n",
    "        self.transition_matrix = []\n",
    "        self.k=K\n",
    "        self.nodes=n\n",
    "        self.dist = [\"uniform\",\"pareto\",\"expovariate\"]\n",
    "\n",
    "        for i in range(self.nodes):\n",
    "            self.transition_matrix.append(self.gen_state_prob(self.k,self.dist[0])) #SELECT DIST\n",
    "            \n",
    "            if sum(self.transition_matrix[i]) != 1:\n",
    "                add = 1- sum(self.transition_matrix[i])\n",
    "                self.transition_matrix[i][0] += add\n",
    "                self.transition_matrix[i][0] = round(self.transition_matrix[i][0],2)\n",
    "            \n",
    "            \n",
    "        for i in range(self.k):\n",
    "            for j in range(self.k):\n",
    "                self.transition_matrix[i][j] = round(self.transition_matrix[i][j], 2)\n",
    "        \n",
    "        if len(self.transition_matrix) != n: print(\"Error generating transition matrix\")\n",
    "\n",
    "    def gen_state_prob(self,K=3, distribution=\"uniform\"):\n",
    "        k=K\n",
    "        a, m = 3., 2.  #Pareto\n",
    "        result = []\n",
    "        r=0\n",
    "\n",
    "        if distribution == \"uniform\":\n",
    "            #result = [[np.random.default_rng().uniform(0, 0.1 / k) for i in range(k)] for j in range(k)]\n",
    "            result = np.identity(k) + np.random.uniform(low=0., high=1., size=(k, k))\n",
    "            result /= result.sum(axis=1, keepdims=1)\n",
    "        elif distribution == \"pareto\":\n",
    "            result = [[(np.random.default_rng().pareto(a, 3) + 1) * m for i in range(k)] for j in range(k)]\n",
    "            #print(\"\\n\\n\", distribution, \"-before->\", type(result), result)\n",
    "            temp= [result[0][i] for i in range(k)]\n",
    "            result=temp\n",
    "            #print(\"\\n\\n\", distribution, \"-after->\", type(result), result)\n",
    "            #return\n",
    "        elif distribution == \"expovariate\":\n",
    "            result = [[random.expovariate(alpha/k) for i in range(k)] for j in range(k)]\n",
    "\n",
    "        #print(\"\\n\\n\", distribution, \"-->\", result)\n",
    "        #return\n",
    "\n",
    "        for j, r in enumerate(result):\n",
    "            r[j] += 1 - sum(r)\n",
    "            \n",
    "        \n",
    "        #for x in transition_matrix:\n",
    "        #    print(x, sum(x))\n",
    "        self.transition_matrix = result\n",
    "        self.transition_matrix = [list(x) for x in self.transition_matrix]\n",
    "\n",
    "\n",
    "    def get_transition_matrix(self):\n",
    "        return self.transition_matrix"
   ]
  },
  {
   "cell_type": "markdown",
   "id": "13563368",
   "metadata": {},
   "source": [
    "## Plot State Transition Diagram"
   ]
  },
  {
   "cell_type": "code",
   "execution_count": 3,
   "id": "37dd7519",
   "metadata": {},
   "outputs": [
    {
     "data": {
      "text/plain": [
       "\"\\nimport numpy as np\\nfrom matplotlib import pyplot as plt\\n\\n# Import the MarkovChain class from markovchain.py\\nfrom markovchain import MarkovChain\\nP = np.array(transition_matrix)\\nmc = MarkovChain(P, ['left', 'straight', 'right'])\\nmc.draw()\\n\""
      ]
     },
     "execution_count": 3,
     "metadata": {},
     "output_type": "execute_result"
    }
   ],
   "source": [
    "'''\n",
    "import numpy as np\n",
    "from matplotlib import pyplot as plt\n",
    "\n",
    "# Import the MarkovChain class from markovchain.py\n",
    "from markovchain import MarkovChain\n",
    "P = np.array(transition_matrix)\n",
    "mc = MarkovChain(P, ['left', 'straight', 'right'])\n",
    "mc.draw()\n",
    "'''"
   ]
  },
  {
   "cell_type": "code",
   "execution_count": 4,
   "id": "e338befb",
   "metadata": {},
   "outputs": [],
   "source": [
    "#https://medium.com/@__amol__/markov-chains-with-python-1109663f3678"
   ]
  },
  {
   "cell_type": "code",
   "execution_count": 5,
   "id": "cfaa793d",
   "metadata": {},
   "outputs": [],
   "source": [
    "import numpy as np\n",
    " \n",
    "class MarkovChain(object):\n",
    "    def __init__(self, transition_matrix, states):\n",
    "        \"\"\"\n",
    "        Initialize the MarkovChain instance.\n",
    " \n",
    "        Parameters\n",
    "        ----------\n",
    "        transition_matrix: 2-D array\n",
    "            A 2-D array representing the probabilities of change of \n",
    "            state in the Markov Chain.\n",
    " \n",
    "        states: 1-D array \n",
    "            An array representing the states of the Markov Chain. It\n",
    "            needs to be in the same order as transition_matrix.\n",
    "        \"\"\"\n",
    "        self.transition_matrix = np.atleast_2d(transition_matrix)\n",
    "        self.states = states\n",
    "        self.index_dict = {self.states[index]: index for index in \n",
    "                           range(len(self.states))}\n",
    "        self.state_dict = {index: self.states[index] for index in\n",
    "                           range(len(self.states))}\n",
    " \n",
    "    def next_state(self, current_state):\n",
    "        \"\"\"\n",
    "        Returns the state of the random variable at the next time \n",
    "        instance.\n",
    " \n",
    "        Parameters\n",
    "        ----------\n",
    "        current_state: str\n",
    "            The current state of the system.\n",
    "        \"\"\"\n",
    "        return np.random.choice(\n",
    "         self.states, \n",
    "         p=self.transition_matrix[self.index_dict[current_state], :]\n",
    "        )\n",
    " \n",
    "    def generate_states(self, current_state, no=10):\n",
    "        \"\"\"\n",
    "        Generates the next states of the system.\n",
    " \n",
    "        Parameters\n",
    "        ----------\n",
    "        current_state: str\n",
    "            The state of the current random variable.\n",
    " \n",
    "        no: int\n",
    "            The number of future states to generate.\n",
    "        \"\"\"\n",
    "        future_states = []\n",
    "        for i in range(no):\n",
    "            next_state = self.next_state(current_state)\n",
    "            future_states.append(next_state)\n",
    "            current_state = next_state\n",
    "        return future_states"
   ]
  },
  {
   "cell_type": "code",
   "execution_count": 6,
   "id": "bebfd664",
   "metadata": {},
   "outputs": [],
   "source": [
    "import numpy as np\n",
    "\n",
    "class Population:\n",
    "    N = 0\n",
    "    a = 0\n",
    "    b = 0\n",
    "    ntrials = 0\n",
    "    x = []\n",
    "    \n",
    "    def __init__(self, n, A, B, trials):\n",
    "        self.N = n  # maximum number of cars at an intersection\n",
    "        self.a = A / self.N  # car arrival rate\n",
    "        self.b = B / self.N  # car departure rate\n",
    "        self.ntrials = trials\n",
    "        self.x = np.random.randint(size=self.ntrials, low=0, high=self.N)\n",
    "        #print(\"x: \", self.x)\n",
    "        self.simulate(10)\n",
    "\n",
    "    def simulate(self, nsteps):\n",
    "        \"\"\"Run the simulation.\"\"\"\n",
    "        #self.x = \n",
    "        for _ in range(nsteps - 1):\n",
    "            # Which trials to update?\n",
    "            upd = (0 < self.x) & (self.x < self.N - 1)\n",
    "            # In which trials do births occur?\n",
    "            ####birth = 1 * (np.random.rand(ntrials) <= a * x)\n",
    "            birth = 1 * (np.random.pareto(self.ntrials) <= self.a * self.x)\n",
    "            # In which trials do deaths occur?\n",
    "            ####death = 1 * (np.random.rand(ntrials) <= b * x)\n",
    "            death = 1 * (np.random.pareto(self.ntrials) <= self.b * self.x)\n",
    "            # We update the population size for all trials\n",
    "            self.x[upd] += birth[upd] - death[upd]\n",
    "\n",
    "    def get_sim_data(self):\n",
    "        return self.x"
   ]
  },
  {
   "cell_type": "markdown",
   "id": "e4389848",
   "metadata": {},
   "source": [
    "## Simulate Map"
   ]
  },
  {
   "cell_type": "code",
   "execution_count": 7,
   "id": "1c10155b",
   "metadata": {},
   "outputs": [],
   "source": [
    "class Simulate:\n",
    "    \n",
    "    def __init__(self,steps):\n",
    "        self.lMap = []                     #holds all timeSteps/snapshots from the map\n",
    "        self.lCars = []\n",
    "        self.addCars = False\n",
    "        self.LearningFeatures = []\n",
    "        self.LearningLabels = []\n",
    "        self.TestingFeatures = []\n",
    "        self.TestingLabels = []\n",
    "        self.tSteps = steps\n",
    "    \n",
    "    def updateTransitionMatrix(self,tm_0, tm_1, cars_0, cars_1):\n",
    "        #how to change transition matrix when new cars are added\n",
    "        return tm_1\n",
    "\n",
    "    #if true, adds new cars to intersection\n",
    "    #if false, carries over only the cars coming in from previous intersections\n",
    "    def addNewCars(self,cars):\n",
    "        if self.addCars: return cars\n",
    "        else: return 0\n",
    "        \n",
    "    #updates lMap with newly added cars after every time period\n",
    "    def updateMap(self,lMap, cars, step):\n",
    "        \n",
    "        flatFeatures = []\n",
    "        #dVertices[i] = {0, [step,[[transition_matrix]], state, 0]}\n",
    "        T = Transition(3,3)\n",
    "\n",
    "        if len(self.lMap) > 0:\n",
    "            mostRecentTimeStep = self.lMap[(len(self.lMap)-1)]\n",
    "            #print(\"mostRecentTimeStep\",mostRecentTimeStep)\n",
    "            nextTimeStep = {}\n",
    "            prevState = mostRecentTimeStep[0][2]  #copy previous state from last time step\n",
    "            #print(prevState)\n",
    "            #print(\"mostRecentTimeStep[0][2]\",mostRecentTimeStep[0][2])\n",
    "            #print(\"mostRecentTimeStep[0][1][1][1]\",mostRecentTimeStep[0][1][1][1])\n",
    "\n",
    "            for i in range(len(self.tSteps)):\n",
    "                # Generate Transition Matrix for intersection i and assign to intersection\n",
    "                T.gen_state_prob(3,\"uniform\")\n",
    "                transition_matrix = T.get_transition_matrix()\n",
    "                # predict next turn for intersection i \n",
    "                traffic_chain = MarkovChain(transition_matrix=transition_matrix,\n",
    "                                    states=['left', 'straight', 'right'])\n",
    "                state = traffic_chain.next_state(current_state=prevState)\n",
    "                \n",
    "                #----------------------------------------------------\n",
    "                # Add Learning data to separate arrays along the way\n",
    "                #----------------------------------------------------\n",
    "                \n",
    "                for row in transition_matrix:\n",
    "                    for prob in row:\n",
    "                        flatFeatures.append(prob)\n",
    "                \n",
    "                if prevState == \"left\": flatFeatures.append(0)\n",
    "                elif prevState == \"straight\": flatFeatures.append(1)\n",
    "                elif prevState == \"right\": flatFeatures.append(2)\n",
    "                \n",
    "                self.LearningFeatures.append(flatFeatures)\n",
    "                self.LearningLabels.append(state)\n",
    "                flatFeatures = []\n",
    "                #----------------------------------------------------\n",
    "                \n",
    "                if prevState == \"left\":\n",
    "                    if state == \"left\":\n",
    "                        nextTimeStep[i] = [step,\n",
    "                               #mostRecentTimeStep[i][1], #transition_matrix for vertex\n",
    "                               transition_matrix,\n",
    "                               state, \n",
    "                               int(self.addNewCars(cars[i]) + (mostRecentTimeStep[i][3] * mostRecentTimeStep[i][1][0][0]))] #updated number of cars for this step\n",
    "                    elif state == \"straight\":\n",
    "                        nextTimeStep[i] = [step,\n",
    "                               #mostRecentTimeStep[i][1], #transition_matrix for vertex\n",
    "                               transition_matrix,\n",
    "                               state, \n",
    "                               int(self.addNewCars(cars[i]) + (mostRecentTimeStep[i][3] * mostRecentTimeStep[i][1][0][1]))] #cars[i] +  #updated number of cars for this step\n",
    "                    elif state == \"right\":\n",
    "                        nextTimeStep[i] = [step,\n",
    "                               #mostRecentTimeStep[i][1], #transition_matrix for vertex\n",
    "                               transition_matrix,\n",
    "                               state, \n",
    "                               int(self.addNewCars(cars[i]) + (mostRecentTimeStep[i][3] * mostRecentTimeStep[i][1][0][2]))] #updated number of cars for this step\n",
    "\n",
    "                elif prevState == \"straight\":\n",
    "                    if state == \"left\":\n",
    "                        nextTimeStep[i] = [step,\n",
    "                               #mostRecentTimeStep[i][1], #transition_matrix for vertex\n",
    "                               transition_matrix,\n",
    "                               state, \n",
    "                               int(self.addNewCars(cars[i]) + (mostRecentTimeStep[i][3] * mostRecentTimeStep[i][1][1][0]))] #updated number of cars for this step\n",
    "                    if state == \"straight\":\n",
    "                        nextTimeStep[i] = [step,\n",
    "                               #mostRecentTimeStep[i][1], #transition_matrix for vertex\n",
    "                               transition_matrix,\n",
    "                               state, \n",
    "                               int(self.addNewCars(cars[i]) + (mostRecentTimeStep[i][3] * mostRecentTimeStep[i][1][1][1]))] #updated number of cars for this step\n",
    "                    if state == \"right\":\n",
    "                        nextTimeStep[i] = [step,\n",
    "                               #mostRecentTimeStep[i][1], #transition_matrix for vertex\n",
    "                               transition_matrix,\n",
    "                               state, \n",
    "                               int(self.addNewCars(cars[i]) + (mostRecentTimeStep[i][3] * mostRecentTimeStep[i][1][1][2]))] #updated number of cars for this step\n",
    "\n",
    "                elif prevState == \"right\":\n",
    "                    if state == \"left\":\n",
    "                        nextTimeStep[i] = [step,\n",
    "                               #mostRecentTimeStep[i][1], #transition_matrix for vertex\n",
    "                               transition_matrix,\n",
    "                               state, \n",
    "                               int(self.addNewCars(cars[i]) + (mostRecentTimeStep[i][3] * mostRecentTimeStep[i][1][2][0]))] #updated number of cars for this step\n",
    "                    if state == \"straight\":\n",
    "                        nextTimeStep[i] = [step,\n",
    "                               #mostRecentTimeStep[i][1], #transition_matrix for vertex\n",
    "                               transition_matrix,\n",
    "                               state, \n",
    "                               int(self.addNewCars(cars[i]) + (mostRecentTimeStep[i][3] * mostRecentTimeStep[i][1][2][1]))] #updated number of cars for this step\n",
    "                    if state == \"right\":\n",
    "                        nextTimeStep[i] = [step,\n",
    "                               #mostRecentTimeStep[i][1], #transition_matrix for vertex\n",
    "                               transition_matrix,\n",
    "                               state, \n",
    "                               int(self.addNewCars(cars[i]) + (mostRecentTimeStep[i][3] * mostRecentTimeStep[i][1][2][2]))] #updated number of cars for this step\n",
    "                \n",
    "                prevState = state\n",
    "\n",
    "            \n",
    "        else:\n",
    "            nextTimeStep = {}\n",
    "            prevState = \"left\"  #initial state at the first intersection\n",
    "            #init all intersections\n",
    "            for i in range(len(self.tSteps)):\n",
    "                # Generate Transition Matrix for intersection i and assign to intersection\n",
    "                T.gen_state_prob(3,\"uniform\")\n",
    "                transition_matrix = T.get_transition_matrix()\n",
    "                # predict next turn for intersection i \n",
    "                traffic_chain = MarkovChain(transition_matrix=transition_matrix,\n",
    "                                    states=['left', 'straight', 'right'])\n",
    "                state = traffic_chain.next_state(current_state=prevState)\n",
    "\n",
    "                #create vertex with all its properties\n",
    "                nextTimeStep[i] = [10,transition_matrix, state, 0] #0=num_cars\n",
    "                prevState = state\n",
    "\n",
    "            #init number of cars at every intersection using Pareto dist RV, t=0\n",
    "            for vNum, prop in nextTimeStep.items():\n",
    "                prop[3] = self.lCars[0][vNum]\n",
    "\n",
    "        self.lMap.append(nextTimeStep)\n",
    "        #print(\"Time steps in map:\",len(lMap))\n",
    "        mostRecentTimeStep = {}\n",
    "        nextTimeStep = {}\n",
    "        prevState = \"\"\n",
    "        #self.LearningFeatures = []\n",
    "        #self.LearningLabels = []\n",
    "\n",
    "    def printMap(self,printDetails=False):\n",
    "        print(\"vertices:\",len(self.lMap[0]))\n",
    "        print(\"\\t\",end=\"\")\n",
    "        [print('V'+str(i)+'\\t',end=(\"\")) for i in range(len(self.lMap[0]))]\n",
    "        print()\n",
    "        for i in range(len(self.lMap)):\n",
    "            print(\"t=\",self.lMap[i][0][0],\"\\t\", end=\"\")\n",
    "            for vNum, prop in self.lMap[i].items():\n",
    "                print(prop[3],end=\"\")\n",
    "                if prop[2] == \"left\": print(\"/l\\t\", end=\"\")\n",
    "                elif prop[2] == \"straight\": print(\"/s\\t\", end=\"\")\n",
    "                elif prop[2] == \"right\": print(\"/r\\t\", end=\"\")\n",
    "            print()\n",
    "\n",
    "        if printDetails:\n",
    "            for vNum, prop in self.lMap[0].items():\n",
    "                print(vNum, \"\\b:\", \"Ts:\" ,prop[0],\"\\n\",prop[1][0],\"\\n\",prop[1][1],\"\\n\",prop[1][2], \"-->\" ,prop[2], \", cars(\" ,prop[3],\")\")\n",
    "    \n",
    "    def runSimulation(self, P):\n",
    "        for steps in self.tSteps:\n",
    "            P.simulate(steps)                        #simulate next time step\n",
    "            self.lCars.append(P.get_sim_data())\n",
    "            S.updateMap(self.lMap,self.lCars[len(self.lCars)-1],steps)    #add data cars list\n",
    "   \n",
    "    def getLearningData(self):\n",
    "        return self.LearningFeatures, self.LearningLabels\n",
    "    \n",
    "    def generateTestingData(self, count):\n",
    "        X = Transition(3,3)\n",
    "        s=\"\" #state\n",
    "        Ps=\"left\" #prevState\n",
    "        TM=[] #transition_matrix\n",
    "        FF=[] #flatFeatures\n",
    "        self.TestingFeatures=[]\n",
    "        self.TestingLabels=[]\n",
    "        for i in range(count):\n",
    "            X.gen_state_prob(3,\"uniform\")\n",
    "            TM = X.get_transition_matrix()\n",
    "            # predict next turn for intersection i \n",
    "            TC = MarkovChain(transition_matrix=TM,\n",
    "                                states=['left', 'straight', 'right'])\n",
    "            s = TC.next_state(current_state=Ps)\n",
    "\n",
    "            for row in TM:\n",
    "                for prob in row:\n",
    "                    FF.append(prob)\n",
    "\n",
    "            if Ps == \"left\": FF.append(0)\n",
    "            elif Ps == \"straight\": FF.append(1)\n",
    "            elif Ps == \"right\": FF.append(2)\n",
    "\n",
    "            self.TestingFeatures.append(FF)\n",
    "            self.TestingLabels.append(s)\n",
    "            FF = []\n",
    "                \n",
    "    def getTestingData(self):\n",
    "        return self.TestingFeatures, self.TestingLabels\n",
    "    \n",
    "    def plotData(self):\n",
    "        import matplotlib.pyplot as plt\n",
    "        import numpy as np\n",
    "        x = [i for i in range(len(self.tSteps))]\n",
    "        y=[]\n",
    "        \n",
    "        for i in range(len(self.lMap)):\n",
    "            y.append([])\n",
    "            for j in range(len(self.lMap[i])):\n",
    "                y[i].append(self.lMap[i][j][3])\n",
    "        #print(y)\n",
    "        \n",
    "        #x = np.arange(0, 1.0, 0.01)\n",
    "        #y1 = np.sin(2*np.pi*x)\n",
    "        #y2 = np.sin(4*np.pi*x)\n",
    "        #lines = plt.plot(x, y[0], x, y[1])\n",
    "        #l1, l2 = lines\n",
    "        #plt.setp(lines, linestyle='--')       # set both to dashed\n",
    "        #plt.setp(l1, linewidth=2, color='r')  # line1 is thick and red\n",
    "        #plt.setp(l2, linewidth=1, color='g')  # line2 is thinner and green\n",
    "        #plt.plot(x,y)\n",
    "        \n",
    "        fig, ax = plt.subplots(1, 1, figsize=(12, 8))\n",
    "        ax.plot(x, lw=2)\n",
    "        \n",
    "        plt.style.use('ggplot')\n",
    "        \n",
    "        ax1 = plt.subplot(411)\n",
    "        plt.plot(x, y[0],color='black',linestyle='--', marker=\".\")\n",
    "        plt.tick_params('x', labelsize=11)\n",
    "        plt.ylabel(\"V0\", fontsize=14)\n",
    "        plt.grid(True)\n",
    "\n",
    "        # share x only\n",
    "        ax2 = plt.subplot(412, sharex=ax1)\n",
    "        plt.plot(x, y[2],color='black',linestyle='--', marker=\".\")\n",
    "        # make these tick labels invisible\n",
    "        #plt.tick_params('x', labelbottom=False)\n",
    "        plt.tick_params('x', labelsize=11)\n",
    "        plt.ylabel(\"V3\", fontsize=14)\n",
    "        plt.grid(True)\n",
    "        \n",
    "        \n",
    "        # share x only\n",
    "        ax3 = plt.subplot(413, sharex=ax1)\n",
    "        plt.plot(x, y[5],color='black',linestyle='--', marker=\".\")\n",
    "        # make these tick labels invisible\n",
    "        #plt.tick_params('x', labelbottom=False)\n",
    "        plt.ylabel(\"V6\", fontsize=14)\n",
    "        plt.ylim(0,50,10)\n",
    "        plt.grid(True)\n",
    "\n",
    "        # share x and y\n",
    "        ax4 = plt.subplot(414, sharex=ax1, sharey=ax1)\n",
    "        plt.plot(x, y[8],color='black',linestyle='--', marker=\".\")\n",
    "        plt.ylabel(\"V9\", fontsize=14)\n",
    "        #plt.xlim(0.01, 5.0)\n",
    "        plt.xlabel(\"Time steps\", fontsize=14)\n",
    "        plt.grid(True)\n",
    "        plt.show()\n",
    "        "
   ]
  },
  {
   "cell_type": "code",
   "execution_count": 8,
   "id": "353bab56",
   "metadata": {},
   "outputs": [
    {
     "data": {
      "image/png": "[encoded data removed]",
      "text/plain": [
       "<Figure size 864x576 with 4 Axes>"
      ]
     },
     "metadata": {
      "needs_background": "light"
     },
     "output_type": "display_data"
    }
   ],
   "source": [
    "P = Population(20,0.5,0.5,30)\n",
    "\n",
    "timeSteps = [10,50,100,150, 200, 250, 300, 350, 400, 450, 500, 550, 600, 650, 700, 750, 800, 850, 900, 950]\n",
    "#timeSteps = [10,100,500,1000,1500,2000,2500,3000,3500,4000]\n",
    "S = Simulate(timeSteps)\n",
    "\n",
    "S.addCars = True\n",
    "S.runSimulation(P)\n",
    "#S.printMap(False)\n",
    "S.plotData()\n",
    "Features, Labels = S.getLearningData()\n",
    "S.generateTestingData(100)\n",
    "tFeatures, tLabels = S.getTestingData()\n",
    "#print(tLabels)\n",
    "#print(tFeatures)\n",
    "\n",
    "#override features\n",
    "#S.generateTestingData(1000)\n",
    "#Features, Labels = S.getTestingData()\n",
    "\n",
    "del S"
   ]
  },
  {
   "cell_type": "code",
   "execution_count": null,
   "id": "00fd19e9",
   "metadata": {},
   "outputs": [],
   "source": []
  },
  {
   "cell_type": "code",
   "execution_count": 9,
   "id": "252409d3",
   "metadata": {},
   "outputs": [],
   "source": [
    "#https://vknight.org/unpeudemath/code/2015/08/01/simulating_continuous_markov_chains.html"
   ]
  },
  {
   "cell_type": "markdown",
   "id": "7f2443c2",
   "metadata": {},
   "source": [
    "## Plot MarkovChain"
   ]
  },
  {
   "cell_type": "code",
   "execution_count": 10,
   "id": "d35d8a6a",
   "metadata": {},
   "outputs": [
    {
     "data": {
      "text/plain": [
       "'\\nimport pygraphviz as pgv\\nfrom IPython.display import Image\\n\\ndef draw(dot):\\n    return Image(pgv.AGraph(dot).draw(format=\\'png\\', prog=\\'dot\\'))\\n\\ng1 = \"\"\"digraph top {\\n   a -> b -> c;\\n}\"\"\"\\ndraw(g1)\\n'"
      ]
     },
     "execution_count": 10,
     "metadata": {},
     "output_type": "execute_result"
    }
   ],
   "source": [
    "'''\n",
    "import pygraphviz as pgv\n",
    "from IPython.display import Image\n",
    "\n",
    "def draw(dot):\n",
    "    return Image(pgv.AGraph(dot).draw(format='png', prog='dot'))\n",
    "\n",
    "g1 = \"\"\"digraph top {\n",
    "   a -> b -> c;\n",
    "}\"\"\"\n",
    "draw(g1)\n",
    "'''"
   ]
  },
  {
   "cell_type": "markdown",
   "id": "63086942",
   "metadata": {},
   "source": [
    "## Decision Tree Classifier"
   ]
  },
  {
   "cell_type": "code",
   "execution_count": 11,
   "id": "bbf4b7d1",
   "metadata": {},
   "outputs": [
    {
     "name": "stdout",
     "output_type": "stream",
     "text": [
      "accuracy:  0.33\n"
     ]
    }
   ],
   "source": [
    "from sklearn import tree\n",
    "X = Features\n",
    "Y = Labels\n",
    "pLabels = []\n",
    "clf = tree.DecisionTreeClassifier()\n",
    "clf = clf.fit(X, Y)\n",
    "\n",
    "matched = 0\n",
    "for i in range(len(tFeatures)):\n",
    "    #print(clf.predict([tFeatures[i]]),\"-->\",tLabels[i])\n",
    "    if clf.predict([tFeatures[i]]) == tLabels[i]:\n",
    "        matched+=1\n",
    "    pLabels.append(clf.predict([tFeatures[i]])[0])\n",
    "        \n",
    "#print(len(pLabels), len(tLabels))\n",
    "print(\"accuracy: \", matched/len(tFeatures))\n",
    "\n",
    "#clf.predict([[0.3,0.2,0.5,0.1,0.4,0.5,0.6,0.3,0.1,1]])\n",
    "#clf.predict_proba([[0.3,0.2,0.5,0.1,0.4,0.5,0.6,0.3,0.1,1]])"
   ]
  },
  {
   "cell_type": "code",
   "execution_count": 12,
   "id": "28879d50",
   "metadata": {},
   "outputs": [
    {
     "data": {
      "text/plain": [
       "'\\nimport graphviz \\ndot_data = tree.export_graphviz(clf, out_file=None) \\ngraph = graphviz.Source(dot_data) \\ngraph.render(\"traffic_tree\") \\n'"
      ]
     },
     "execution_count": 12,
     "metadata": {},
     "output_type": "execute_result"
    }
   ],
   "source": [
    "'''\n",
    "import graphviz \n",
    "dot_data = tree.export_graphviz(clf, out_file=None) \n",
    "graph = graphviz.Source(dot_data) \n",
    "graph.render(\"traffic_tree\") \n",
    "'''"
   ]
  },
  {
   "cell_type": "markdown",
   "id": "45a5c6dc",
   "metadata": {},
   "source": [
    "## Deep Learning Model MLPClassifier"
   ]
  },
  {
   "cell_type": "code",
   "execution_count": 13,
   "id": "025f74fa",
   "metadata": {},
   "outputs": [
    {
     "name": "stdout",
     "output_type": "stream",
     "text": [
      "Accuracy: 0.563158\n"
     ]
    }
   ],
   "source": [
    "from sklearn.linear_model import LogisticRegression\n",
    "from sklearn import datasets, metrics\n",
    "\n",
    "classifier = LogisticRegression()\n",
    "classifier.fit(Features, Labels)\n",
    "score = metrics.accuracy_score(Labels, classifier.predict(Features))\n",
    "print(\"Accuracy: %f\" % score)"
   ]
  },
  {
   "cell_type": "markdown",
   "id": "e8561256",
   "metadata": {},
   "source": [
    "https://scikit-learn.org/stable/modules/generated/sklearn.neural_network.MLPClassifier.html#sklearn.neural_network.MLPClassifier"
   ]
  },
  {
   "cell_type": "code",
   "execution_count": 14,
   "id": "2eedb07d",
   "metadata": {},
   "outputs": [
    {
     "name": "stdout",
     "output_type": "stream",
     "text": [
      "data: 380\n",
      "labels: 380\n",
      "[0.5165556445714772, 0.33072061468508274, 0.15272374074344008, 0.12404093268568035, 0.7367313947799368, 0.1392276725343828, 0.23291033821855833, 0.24773068668786047, 0.5193589750935813, 2] [0.6377218627338735, 0.08829116893188517, 0.27398696833424124, 0.1736285628865348, 0.7598955237923168, 0.06647591332114831, 0.18964429641660613, 0.17218483732940398, 0.63817086625399, 2] [0.5483161867388056, 0.23414181567746373, 0.21754199758373072, 0.02891041603008488, 0.8765951015583439, 0.09449448241157131, 0.3481975927212566, 0.07670990256585965, 0.5750925047128838, 2] [0.5977531991570375, 0.01982967999526566, 0.38241712084769686, 0.3838551135821903, 0.5768101197388105, 0.03933476667899908, 0.29549806210663176, 0.06251091984464949, 0.6419910180487187, 0] [0.5080781840839288, 0.26491410810878063, 0.2270077078072905, 0.28793648236207703, 0.44395855816679763, 0.26810495947112534, 0.17599874794582235, 0.30466556056696686, 0.5193356914872108, 2] \n",
      "right right left right right \n",
      "accuracy:  0.63\n",
      "\n",
      "score: 0.3368421052631579\n"
     ]
    },
    {
     "name": "stderr",
     "output_type": "stream",
     "text": [
      "/opt/anaconda3/lib/python3.9/site-packages/sklearn/neural_network/_multilayer_perceptron.py:692: ConvergenceWarning: Stochastic Optimizer: Maximum iterations (200) reached and the optimization hasn't converged yet.\n",
      "  warnings.warn(\n"
     ]
    }
   ],
   "source": [
    "from sklearn.neural_network import MLPClassifier\n",
    "X = Features\n",
    "y = Labels\n",
    "print(\"data:\",len(X))\n",
    "print(\"labels:\",len(y))\n",
    "\n",
    "[print(X[i], end=' ') for i in range(5)] \n",
    "print()\n",
    "[print(y[i], end=' ') for i in range(5)] \n",
    "clf = MLPClassifier(solver='adam', alpha=1e-5,\n",
    "                    hidden_layer_sizes=(5, 2), random_state=1)\n",
    "\n",
    "clf.fit(X, y)\n",
    "\n",
    "matched = 0\n",
    "for i in range(len(tFeatures)):\n",
    "    if clf.predict([tFeatures[i]]) == tLabels[i]:\n",
    "        matched+=1\n",
    "    #print(clf.predict([test])[0],\"-->\",Labels[i])\n",
    "print(\"\\naccuracy: \", matched/len(tFeatures))\n",
    "print(\"\\nscore:\", clf.score(Features, Labels))\n",
    "\n",
    "#clf.predict_proba([[2., 2.], [1., 2.]])"
   ]
  },
  {
   "cell_type": "markdown",
   "id": "1442ee40",
   "metadata": {},
   "source": [
    "## Confusion Matrix"
   ]
  },
  {
   "cell_type": "code",
   "execution_count": 15,
   "id": "8168758e",
   "metadata": {},
   "outputs": [
    {
     "ename": "NameError",
     "evalue": "name 'plt' is not defined",
     "output_type": "error",
     "traceback": [
      "\u001b[0;31m---------------------------------------------------------------------------\u001b[0m",
      "\u001b[0;31mNameError\u001b[0m                                 Traceback (most recent call last)",
      "\u001b[1;32m/Users/haider/Documents/GitHub/traffic-management/_src/ML/.ipynb_checkpoints/Markov2-checkpoint.ipynb Cell 23\u001b[0m in \u001b[0;36m<cell line: 21>\u001b[0;34m()\u001b[0m\n\u001b[1;32m     <a href='vscode-notebook-cell:/Users/haider/Documents/GitHub/traffic-management/_src/ML/.ipynb_checkpoints/Markov2-checkpoint.ipynb#X31sZmlsZQ%3D%3D?line=17'>18</a>\u001b[0m cm_display \u001b[39m=\u001b[39m metrics\u001b[39m.\u001b[39mConfusionMatrixDisplay(confusion_matrix \u001b[39m=\u001b[39m confusion_matrix, display_labels \u001b[39m=\u001b[39m clf\u001b[39m.\u001b[39mclasses_)\u001b[39m#[False, True])\u001b[39;00m\n\u001b[1;32m     <a href='vscode-notebook-cell:/Users/haider/Documents/GitHub/traffic-management/_src/ML/.ipynb_checkpoints/Markov2-checkpoint.ipynb#X31sZmlsZQ%3D%3D?line=19'>20</a>\u001b[0m cm_display\u001b[39m.\u001b[39mplot(cmap \u001b[39m=\u001b[39m \u001b[39m'\u001b[39m\u001b[39mGreys\u001b[39m\u001b[39m'\u001b[39m)\n\u001b[0;32m---> <a href='vscode-notebook-cell:/Users/haider/Documents/GitHub/traffic-management/_src/ML/.ipynb_checkpoints/Markov2-checkpoint.ipynb#X31sZmlsZQ%3D%3D?line=20'>21</a>\u001b[0m plt\u001b[39m.\u001b[39mshow()\n",
      "\u001b[0;31mNameError\u001b[0m: name 'plt' is not defined"
     ]
    },
    {
     "data": {
      "image/png": "[encoded data removed]",
      "text/plain": [
       "<Figure size 432x288 with 2 Axes>"
      ]
     },
     "metadata": {},
     "output_type": "display_data"
    }
   ],
   "source": [
    "def labelToNum(lbls):\n",
    "    temp = []\n",
    "    for i in lbls:\n",
    "        if i == 'left': temp.append(0)\n",
    "        elif i == 'straight': temp.append(1)\n",
    "        elif i == 'right' : temp.append(2)\n",
    "    return temp\n",
    "\n",
    "#import matplotlib.pyplot as plt\n",
    "import numpy\n",
    "from sklearn import metrics\n",
    "\n",
    "actual = tLabels\n",
    "predicted = pLabels\n",
    "\n",
    "confusion_matrix = metrics.confusion_matrix(actual, predicted, labels=clf.classes_)#[\"left\", \"straight\", \"right\"])\n",
    "\n",
    "cm_display = metrics.ConfusionMatrixDisplay(confusion_matrix = confusion_matrix, display_labels = clf.classes_)#[False, True])\n",
    "\n",
    "cm_display.plot(cmap = 'Greys')\n",
    "plt.show() "
   ]
  },
  {
   "cell_type": "code",
   "execution_count": null,
   "id": "4775b7d4",
   "metadata": {},
   "outputs": [],
   "source": [
    "#LATEST 10/06"
   ]
  },
  {
   "cell_type": "code",
   "execution_count": null,
   "id": "e9324d40",
   "metadata": {},
   "outputs": [],
   "source": []
  }
 ],
 "metadata": {
  "kernelspec": {
   "display_name": "Python 3",
   "language": "python",
   "name": "python3"
  },
  "language_info": {
   "codemirror_mode": {
    "name": "ipython",
    "version": 3
   },
   "file_extension": ".py",
   "mimetype": "text/x-python",
   "name": "python",
   "nbconvert_exporter": "python",
   "pygments_lexer": "ipython3",
   "version": "3.9.12"
  },
  "vscode": {
   "interpreter": {
    "hash": "40d3a090f54c6569ab1632332b64b2c03c39dcf918b08424e98f38b5ae0af88f"
   }
  }
 },
 "nbformat": 4,
 "nbformat_minor": 5
}
