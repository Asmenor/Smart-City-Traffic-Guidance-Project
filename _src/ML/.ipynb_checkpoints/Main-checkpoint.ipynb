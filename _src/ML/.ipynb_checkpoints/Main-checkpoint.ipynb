{
 "cells": [
  {
   "cell_type": "code",
   "execution_count": 41,
   "id": "7e326e6c",
   "metadata": {},
   "outputs": [],
   "source": [
    "#https://stackoverflow.com/questions/47330244/generating-random-transition-probability-matrix-python\n",
    "#https://docs.python.org/3/library/random.html\n",
    "#ref: https://www.datacamp.com/tutorial/markov-chains-python-tutorial"
   ]
  },
  {
   "cell_type": "code",
   "execution_count": 42,
   "id": "03f0d614",
   "metadata": {},
   "outputs": [],
   "source": [
    "from Transition import Transition"
   ]
  },
  {
   "cell_type": "code",
   "execution_count": 43,
   "id": "1cee9b3a",
   "metadata": {},
   "outputs": [
    {
     "name": "stdout",
     "output_type": "stream",
     "text": [
      "[[8.74858274e-01 1.24942190e-01 1.99536079e-04]\n",
      " [1.37534184e-02 2.54342222e-01 7.31904359e-01]\n",
      " [3.54640098e-01 1.84004286e-01 4.61355616e-01]]\n",
      "[[8.74858274e-01 1.24942190e-01 1.99536079e-04]\n",
      " [1.37534184e-02 2.54342222e-01 7.31904359e-01]\n",
      " [3.54640098e-01 1.84004286e-01 4.61355616e-01]]\n"
     ]
    },
    {
     "data": {
      "image/png": "[encoded data removed]",
      "text/plain": [
       "<Figure size 640x480 with 9 Axes>"
      ]
     },
     "metadata": {},
     "output_type": "display_data"
    }
   ],
   "source": [
    "import datetime\n",
    "\n",
    "Tra = Transition(3,3)\n",
    "\n",
    "for _ in range(1):\n",
    "    Tra.gen_state_prob(3, \"uniform\")\n",
    "    M = Tra.get_transition_matrix()\n",
    "    print(M)\n",
    "\n",
    "\n",
    "print(M)\n",
    "\n",
    "import numpy as np\n",
    "from matplotlib import pyplot as plt\n",
    "\"\"\"\n",
    "plt.rcParams[\"figure.figsize\"] = [7.00, 3.50]\n",
    "plt.rcParams[\"figure.autolayout\"] = True\n",
    "im = plt.imshow(M, cmap=\"copper_r\")\n",
    "plt.colorbar(im)\n",
    "plt.show()\n",
    "\"\"\"\n",
    "figure, axis = plt.subplots(3, 3)\n",
    "\n",
    "for i in range(3):\n",
    "    for j in range(3):\n",
    "        Tra.gen_state_prob(3, \"uniform\")\n",
    "        M = Tra.get_transition_matrix()\n",
    "        plt.rcParams[\"figure.autolayout\"] = True\n",
    "        axis[i,j].imshow(M, cmap=\"copper_r\")\n",
    "        \n",
    "\n",
    "\n",
    "#axis[0, 1].plot(X, Y2)\n",
    "#axis[0, 1].set_title(\"Cosine Function\")\n",
    "#plt.savefig(\"plots/TM-heatmap-\"+str(datetime.datetime.now())+\".png\", bbox_inches=\"tight\")\n",
    "plt.show()"
   ]
  },
  {
   "cell_type": "markdown",
   "id": "13563368",
   "metadata": {},
   "source": [
    "## Plot State Transition Diagram"
   ]
  },
  {
   "cell_type": "code",
   "execution_count": 44,
   "id": "37dd7519",
   "metadata": {},
   "outputs": [
    {
     "data": {
      "text/plain": [
       "\"\\nimport numpy as np\\nfrom matplotlib import pyplot as plt\\n\\n# Import the MarkovChain class from markovchain.py\\nfrom markovchain import MarkovChain\\nP = np.array(transition_matrix)\\nmc = MarkovChain(P, ['left', 'straight', 'right'])\\nmc.draw()\\n\""
      ]
     },
     "execution_count": 44,
     "metadata": {},
     "output_type": "execute_result"
    }
   ],
   "source": [
    "'''\n",
    "import numpy as np\n",
    "from matplotlib import pyplot as plt\n",
    "\n",
    "# Import the MarkovChain class from markovchain.py\n",
    "from markovchain import MarkovChain\n",
    "P = np.array(transition_matrix)\n",
    "mc = MarkovChain(P, ['left', 'straight', 'right'])\n",
    "mc.draw()\n",
    "'''"
   ]
  },
  {
   "cell_type": "markdown",
   "id": "e4389848",
   "metadata": {},
   "source": [
    "## Simulate Map"
   ]
  },
  {
   "cell_type": "code",
   "execution_count": 45,
   "id": "353bab56",
   "metadata": {},
   "outputs": [
    {
     "name": "stdout",
     "output_type": "stream",
     "text": [
      "steps: [10, 50, 100, 150, 200, 250, 300, 350, 400, 450, 500, 550, 600, 650, 700, 750, 800, 850, 900, 950, 1000, 1050, 1100, 1150, 1200, 1250, 1300, 1350, 1400, 1450, 1500, 1550, 1600, 1650, 1700, 1750, 1800, 1850, 1900, 1950]\n",
      "len: 1 self.lCars:  [array([133, 252, 40, 384, 243, 243, 115, 300, 117, 62, 220, 280, 323, 103,\n",
      "       343, 235, 206, 254, 50, 251, 114, 149, 80, 224, 124, 146, 88, 113,\n",
      "       169, 197, 308, 180, 56, 25, 365, 477, 432, 514], dtype=object)]\n"
     ]
    },
    {
     "ename": "IndexError",
     "evalue": "index 38 is out of bounds for axis 0 with size 38",
     "output_type": "error",
     "traceback": [
      "\u001b[0;31m---------------------------------------------------------------------------\u001b[0m",
      "\u001b[0;31mIndexError\u001b[0m                                Traceback (most recent call last)",
      "\u001b[0;32m/var/folders/wf/f_4p2t5127s18w5s_dmmw8900000gn/T/ipykernel_73140/4200574793.py\u001b[0m in \u001b[0;36m<module>\u001b[0;34m\u001b[0m\n\u001b[1;32m     19\u001b[0m \u001b[0mS\u001b[0m\u001b[0;34m.\u001b[0m\u001b[0maddActCars\u001b[0m \u001b[0;34m=\u001b[0m \u001b[0;32mFalse\u001b[0m\u001b[0;34m\u001b[0m\u001b[0;34m\u001b[0m\u001b[0m\n\u001b[1;32m     20\u001b[0m \u001b[0;34m\u001b[0m\u001b[0m\n\u001b[0;32m---> 21\u001b[0;31m \u001b[0mS\u001b[0m\u001b[0;34m.\u001b[0m\u001b[0mrunSimulation\u001b[0m\u001b[0;34m(\u001b[0m\u001b[0mP\u001b[0m\u001b[0;34m)\u001b[0m\u001b[0;34m\u001b[0m\u001b[0;34m\u001b[0m\u001b[0m\n\u001b[0m\u001b[1;32m     22\u001b[0m \u001b[0;31m#print(\"lCars: \", S.getLCars())\u001b[0m\u001b[0;34m\u001b[0m\u001b[0;34m\u001b[0m\u001b[0m\n\u001b[1;32m     23\u001b[0m \u001b[0;31m#print(\"time_steps: \", S.getLCars())\u001b[0m\u001b[0;34m\u001b[0m\u001b[0;34m\u001b[0m\u001b[0m\n",
      "\u001b[0;32m~/Documents/GitHub/traffic-management/_src/ML/Simulate.py\u001b[0m in \u001b[0;36mrunSimulation\u001b[0;34m(self, P)\u001b[0m\n\u001b[1;32m    200\u001b[0m \u001b[0;34m\u001b[0m\u001b[0m\n\u001b[1;32m    201\u001b[0m     \u001b[0;32mdef\u001b[0m \u001b[0mgetLearningData\u001b[0m\u001b[0;34m(\u001b[0m\u001b[0mself\u001b[0m\u001b[0;34m)\u001b[0m\u001b[0;34m:\u001b[0m\u001b[0;34m\u001b[0m\u001b[0;34m\u001b[0m\u001b[0m\n\u001b[0;32m--> 202\u001b[0;31m         \u001b[0;32mreturn\u001b[0m \u001b[0mself\u001b[0m\u001b[0;34m.\u001b[0m\u001b[0mLearningFeatures\u001b[0m\u001b[0;34m,\u001b[0m \u001b[0mself\u001b[0m\u001b[0;34m.\u001b[0m\u001b[0mLearningLabels\u001b[0m\u001b[0;34m\u001b[0m\u001b[0;34m\u001b[0m\u001b[0m\n\u001b[0m\u001b[1;32m    203\u001b[0m \u001b[0;34m\u001b[0m\u001b[0m\n\u001b[1;32m    204\u001b[0m     \u001b[0;32mdef\u001b[0m \u001b[0mgenerateTestingData\u001b[0m\u001b[0;34m(\u001b[0m\u001b[0mself\u001b[0m\u001b[0;34m,\u001b[0m \u001b[0mcount\u001b[0m\u001b[0;34m)\u001b[0m\u001b[0;34m:\u001b[0m\u001b[0;34m\u001b[0m\u001b[0;34m\u001b[0m\u001b[0m\n",
      "\u001b[0;32m~/Documents/GitHub/traffic-management/_src/ML/Simulate.py\u001b[0m in \u001b[0;36mupdateMap\u001b[0;34m(self, lMap, cars, step)\u001b[0m\n\u001b[1;32m    162\u001b[0m             \u001b[0;32mfor\u001b[0m \u001b[0mvertex_num\u001b[0m\u001b[0;34m,\u001b[0m \u001b[0mprop\u001b[0m \u001b[0;32min\u001b[0m \u001b[0mnext_time_step\u001b[0m\u001b[0;34m.\u001b[0m\u001b[0mitems\u001b[0m\u001b[0;34m(\u001b[0m\u001b[0;34m)\u001b[0m\u001b[0;34m:\u001b[0m\u001b[0;34m\u001b[0m\u001b[0;34m\u001b[0m\u001b[0m\n\u001b[1;32m    163\u001b[0m                 \u001b[0mprop\u001b[0m\u001b[0;34m[\u001b[0m\u001b[0;36m3\u001b[0m\u001b[0;34m]\u001b[0m \u001b[0;34m=\u001b[0m \u001b[0mself\u001b[0m\u001b[0;34m.\u001b[0m\u001b[0mlCars\u001b[0m\u001b[0;34m[\u001b[0m\u001b[0;36m0\u001b[0m\u001b[0;34m]\u001b[0m\u001b[0;34m[\u001b[0m\u001b[0mvertex_num\u001b[0m\u001b[0;34m]\u001b[0m\u001b[0;34m\u001b[0m\u001b[0;34m\u001b[0m\u001b[0m\n\u001b[0;32m--> 164\u001b[0;31m \u001b[0;34m\u001b[0m\u001b[0m\n\u001b[0m\u001b[1;32m    165\u001b[0m         \u001b[0mself\u001b[0m\u001b[0;34m.\u001b[0m\u001b[0mlMap\u001b[0m\u001b[0;34m.\u001b[0m\u001b[0mappend\u001b[0m\u001b[0;34m(\u001b[0m\u001b[0mnext_time_step\u001b[0m\u001b[0;34m)\u001b[0m\u001b[0;34m\u001b[0m\u001b[0;34m\u001b[0m\u001b[0m\n\u001b[1;32m    166\u001b[0m         \u001b[0mmost_recent_timestep\u001b[0m \u001b[0;34m=\u001b[0m \u001b[0;34m{\u001b[0m\u001b[0;34m}\u001b[0m\u001b[0;34m\u001b[0m\u001b[0;34m\u001b[0m\u001b[0m\n",
      "\u001b[0;31mIndexError\u001b[0m: index 38 is out of bounds for axis 0 with size 38"
     ]
    }
   ],
   "source": [
    "from MarkovProcess import MarkovChain\n",
    "from Population import Population\n",
    "from Simulate import Simulate\n",
    "\n",
    "P = Population(20,0.5,0.5,30)\n",
    "no_of_timesteps = 40\n",
    "#time_steps = [10,50,100,150, 200, 250, 300, 350, 400, 450, 500, 550, 600, 650, 700, 750, 800, 850, 900, 950]\n",
    "#time_steps = [10,100,500,1000,1500,2000,2500,3000,3500,4000]\n",
    "time_steps = [10, 50]\n",
    "time_val = 50\n",
    "for i in range(no_of_timesteps-2):\n",
    "    time_val += 50\n",
    "    time_steps.append(time_val)\n",
    "#print(\"time_steps:\", time_steps)\n",
    "\n",
    "S = Simulate(time_steps)\n",
    "\n",
    "S.addCars = True        #add new cars at every time step\n",
    "S.addActCars = False\n",
    "\n",
    "S.runSimulation(P)\n",
    "#print(\"lCars: \", S.getLCars())\n",
    "#print(\"time_steps: \", S.getLCars())\n",
    "#S.printMap(True)\n",
    "S.plotData()\n",
    "Features, Labels = S.getLearningData()\n",
    "#[print(Features[i]) for i in range(5)] \n",
    "#print()\n",
    "#[print(Labels[i]) for i in range(5)] \n",
    "\n",
    "S.generateTestingData(100)\n",
    "tFeatures, tLabels = S.getTestingData()\n",
    "#print(tLabels)\n",
    "#print(tFeatures)\n",
    "\n",
    "#override features\n",
    "#S.generateTestingData(1000)\n",
    "#Features, Labels = S.getTestingData()\n",
    "\n",
    "del S"
   ]
  },
  {
   "cell_type": "code",
   "execution_count": null,
   "id": "00fd19e9",
   "metadata": {},
   "outputs": [],
   "source": []
  },
  {
   "cell_type": "code",
   "execution_count": null,
   "id": "252409d3",
   "metadata": {},
   "outputs": [],
   "source": [
    "#https://vknight.org/unpeudemath/code/2015/08/01/simulating_continuous_markov_chains.html"
   ]
  },
  {
   "cell_type": "markdown",
   "id": "7f2443c2",
   "metadata": {},
   "source": [
    "## Plot MarkovChain"
   ]
  },
  {
   "cell_type": "code",
   "execution_count": null,
   "id": "d35d8a6a",
   "metadata": {},
   "outputs": [],
   "source": [
    "'''\n",
    "import pygraphviz as pgv\n",
    "from IPython.display import Image\n",
    "\n",
    "def draw(dot):\n",
    "    return Image(pgv.AGraph(dot).draw(format='png', prog='dot'))\n",
    "\n",
    "g1 = \"\"\"digraph top {\n",
    "   a -> b -> c;\n",
    "}\"\"\"\n",
    "draw(g1)\n",
    "'''"
   ]
  },
  {
   "cell_type": "markdown",
   "id": "63086942",
   "metadata": {},
   "source": [
    "## Decision Tree Classifier"
   ]
  },
  {
   "cell_type": "code",
   "execution_count": null,
   "id": "bbf4b7d1",
   "metadata": {},
   "outputs": [],
   "source": [
    "from sklearn import tree\n",
    "X = Features\n",
    "Y = Labels\n",
    "DTpLabels = []\n",
    "clf = tree.DecisionTreeClassifier()\n",
    "clf = clf.fit(X, Y)\n",
    "\n",
    "matched = 0\n",
    "for i in range(len(tFeatures)):\n",
    "    #print(clf.predict([tFeatures[i]]),\"-->\",tLabels[i])\n",
    "    if clf.predict([tFeatures[i]]) == tLabels[i]:\n",
    "        matched+=1\n",
    "    DTpLabels.append(clf.predict([tFeatures[i]])[0])\n",
    "        \n",
    "#print(len(DTpLabels), len(tLabels))\n",
    "print(\"accuracy: \", matched/len(tFeatures))\n",
    "\n",
    "#clf.predict([[0.3,0.2,0.5,0.1,0.4,0.5,0.6,0.3,0.1,1]])\n",
    "#clf.predict_proba([[0.3,0.2,0.5,0.1,0.4,0.5,0.6,0.3,0.1,1]])"
   ]
  },
  {
   "cell_type": "code",
   "execution_count": null,
   "id": "28879d50",
   "metadata": {},
   "outputs": [],
   "source": [
    "'''\n",
    "import graphviz \n",
    "dot_data = tree.export_graphviz(clf, out_file=None) \n",
    "graph = graphviz.Source(dot_data) \n",
    "graph.render(\"traffic_tree\") \n",
    "'''"
   ]
  },
  {
   "cell_type": "markdown",
   "id": "45a5c6dc",
   "metadata": {},
   "source": [
    "## Logistic Regression"
   ]
  },
  {
   "cell_type": "code",
   "execution_count": null,
   "id": "025f74fa",
   "metadata": {},
   "outputs": [],
   "source": [
    "from sklearn.linear_model import LogisticRegression\n",
    "from sklearn import datasets, metrics\n",
    "\n",
    "classifier = LogisticRegression()\n",
    "classifier.fit(Features, Labels)\n",
    "score = metrics.accuracy_score(Labels, classifier.predict(Features))\n",
    "print(\"Accuracy: %f\" % score)"
   ]
  },
  {
   "cell_type": "markdown",
   "id": "e8561256",
   "metadata": {},
   "source": [
    "https://scikit-learn.org/stable/modules/generated/sklearn.neural_network.MLPClassifier.html#sklearn.neural_network.MLPClassifier"
   ]
  },
  {
   "cell_type": "markdown",
   "id": "790e9ebb",
   "metadata": {},
   "source": [
    "## Neural Network MLP Classifier"
   ]
  },
  {
   "cell_type": "code",
   "execution_count": null,
   "id": "2eedb07d",
   "metadata": {},
   "outputs": [],
   "source": [
    "from sklearn.neural_network import MLPClassifier\n",
    "from sklearn.preprocessing import MinMaxScaler\n",
    "X = Features\n",
    "y = Labels\n",
    "MLPpLabels = []\n",
    "    \n",
    "\n",
    "print(\"data:\",len(X))\n",
    "print(\"labels:\",len(y))\n",
    "\n",
    "#scale learning data\n",
    "dataX = X\n",
    "scaler = MinMaxScaler()\n",
    "print(scaler.fit(dataX))\n",
    "dataX = scaler.transform(dataX)\n",
    "\n",
    "[print(dataX[i]) for i in range(5)] \n",
    "\n",
    "clf = MLPClassifier(activation=\"relu\",\n",
    "                    solver='adam',#'lbfgs', \n",
    "                    alpha=0.00001,\n",
    "                    hidden_layer_sizes=(12, ), \n",
    "                    random_state=1,\n",
    "                    batch_size='auto',\n",
    "                    early_stopping=False,\n",
    "                    warm_start=True)\n",
    "\n",
    "clf.fit(dataX, y)\n",
    "\n",
    "#scale testing data\n",
    "tDataX = tFeatures\n",
    "scaler = MinMaxScaler()\n",
    "print(scaler.fit(tDataX))\n",
    "tDataX = scaler.transform(tDataX)\n",
    "\n",
    "matched = 0\n",
    "lbl = \"\"\n",
    "for i in range(len(tDataX)):\n",
    "    L = clf.predict([tDataX[i]])\n",
    "    if L == tLabels[i]:\n",
    "        matched+=1\n",
    "    MLPpLabels.append(L[0])\n",
    "\n",
    "print(\"accuracy: \", matched/len(tDataX))\n",
    "print(\"score:\", clf.score(dataX, y))\n",
    "print(\"loss:\", clf.loss_)\n",
    "\n",
    "from matplotlib import pyplot as plt\n",
    "\n",
    "plt.hist(tLabels, color='r')\n",
    "#plt.legend()\n",
    "plt.show()\n",
    "plt.hist(MLPpLabels, color='b')\n",
    "plt.show()\n",
    "#print(\"tLabels\", tLabels)\n",
    "#print(\"MLPpLabels\", MLPpLabels)\n",
    "\n",
    "plt.plot(clf.loss_curve_, label=\"loss\")\n",
    "#plt.plot(clf.best_validation_score_, label=\"validation\")\n",
    "\n",
    "#plt.legend(True)\n",
    "plt.show()\n",
    "\n",
    "\n",
    "\n",
    "#clf.predict_proba([[2., 2.], [1., 2.]])"
   ]
  },
  {
   "cell_type": "markdown",
   "id": "1442ee40",
   "metadata": {},
   "source": [
    "## Confusion Matrix"
   ]
  },
  {
   "cell_type": "code",
   "execution_count": null,
   "id": "8168758e",
   "metadata": {},
   "outputs": [],
   "source": [
    "import matplotlib.pyplot as plt\n",
    "import numpy\n",
    "from sklearn import metrics\n",
    "import datetime\n",
    "\n",
    "actual = tLabels\n",
    "\n",
    "confusion_matrix = metrics.confusion_matrix(actual, DTpLabels, labels=clf.classes_)#[\"left\", \"straight\", \"right\"])\n",
    "cm_display = metrics.ConfusionMatrixDisplay(confusion_matrix = confusion_matrix, display_labels = clf.classes_)#[False, True])\n",
    "cm_display.plot(cmap = 'Blues')\n",
    "#plt.savefig(\"plots/confusion-matrix-\"+str(datetime.datetime.now())+\".png\", bbox_inches=\"tight\")\n",
    "plt.xlabel(\"DT Classifier\")\n",
    "plt.show() \n",
    "\n",
    "confusion_matrix = metrics.confusion_matrix(actual, MLPpLabels, labels=clf.classes_)#[\"left\", \"straight\", \"right\"])\n",
    "cm_display = metrics.ConfusionMatrixDisplay(confusion_matrix = confusion_matrix, display_labels = clf.classes_)#[False, True])\n",
    "cm_display.plot(cmap = 'Blues')\n",
    "#plt.savefig(\"plots/confusion-matrix-\"+str(datetime.datetime.now())+\".png\", bbox_inches=\"tight\")\n",
    "plt.xlabel(\"MLP Classifier\")\n",
    "plt.show()\n",
    "\n"
   ]
  },
  {
   "cell_type": "code",
   "execution_count": null,
   "id": "4775b7d4",
   "metadata": {},
   "outputs": [],
   "source": [
    "#LATEST 01/19"
   ]
  },
  {
   "cell_type": "code",
   "execution_count": null,
   "id": "e9324d40",
   "metadata": {},
   "outputs": [],
   "source": []
  }
 ],
 "metadata": {
  "kernelspec": {
   "display_name": "Python 3 (ipykernel)",
   "language": "python",
   "name": "python3"
  },
  "language_info": {
   "codemirror_mode": {
    "name": "ipython",
    "version": 3
   },
   "file_extension": ".py",
   "mimetype": "text/x-python",
   "name": "python",
   "nbconvert_exporter": "python",
   "pygments_lexer": "ipython3",
   "version": "3.9.13"
  },
  "vscode": {
   "interpreter": {
    "hash": "96154e88a4e282b0627065f6cb020800517c9fea3fd65f45b4899f63f8721133"
   }
  }
 },
 "nbformat": 4,
 "nbformat_minor": 5
}
