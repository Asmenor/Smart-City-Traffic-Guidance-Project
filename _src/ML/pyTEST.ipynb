{
 "cells": [
  {
   "cell_type": "code",
   "execution_count": 57,
   "id": "869b91a8",
   "metadata": {},
   "outputs": [
    {
     "data": {
      "image/png": "[encoded data removed]",
      "text/plain": [
       "<Figure size 432x288 with 1 Axes>"
      ]
     },
     "metadata": {
      "needs_background": "light"
     },
     "output_type": "display_data"
    }
   ],
   "source": [
    "import numpy as np\n",
    "\n",
    "\n",
    "a, m = 3., 2.  # shape and mode\n",
    "\n",
    "#s = (np.random.pareto(a, 1000) + 1) * m\n",
    "s = np.random.uniform(1,0,1000)\n",
    "\n",
    "#print(s)\n",
    "\n",
    "import matplotlib.pyplot as plt\n",
    "\n",
    "count, bins, _ = plt.hist(s, 100, density=True, color='black')\n",
    "\n",
    "fit = a*m**a / bins**(a+1)\n",
    "\n",
    "plt.plot(bins, max(count)*fit/max(fit), linewidth=2, color='gray', linestyle=\"--\")\n",
    "\n",
    "plt.show()"
   ]
  },
  {
   "cell_type": "code",
   "execution_count": 16,
   "id": "15ad0128",
   "metadata": {
    "scrolled": true
   },
   "outputs": [
    {
     "name": "stdout",
     "output_type": "stream",
     "text": [
      "Linespaces [0.         0.55555556 1.11111111 1.66666667 2.22222222 2.77777778\n",
      " 3.33333333 3.88888889 4.44444444 5.        ]\n",
      "[[0.         0.         0.         0.         1.3286025  0.34828517\n",
      "  0.11664    0.04625586 0.02075941 0.01024   ]]\n",
      "1.8707829492407864\n"
     ]
    },
    {
     "data": {
      "image/png": "[encoded data removed]",
      "text/plain": [
       "<Figure size 432x288 with 1 Axes>"
      ]
     },
     "metadata": {
      "needs_background": "light"
     },
     "output_type": "display_data"
    }
   ],
   "source": [
    "import numpy as np\n",
    "from matplotlib import pyplot as plt\n",
    "from scipy.stats import pareto\n",
    "\n",
    "xm = 2 # scale \n",
    "alphas = [5]#1, 5, 10, 15] # shape parameters\n",
    "x = np.linspace(0, 5, 10)\n",
    "print(\"Linespaces\", x)\n",
    "\n",
    "output = np.array([pareto.pdf(x, scale = xm, b = a) for a in alphas])\n",
    "print(output)\n",
    "print(np.sum(output))\n",
    "plt.plot(x, output.T)\n",
    "plt.show()"
   ]
  },
  {
   "cell_type": "code",
   "execution_count": 44,
   "id": "4fb4e740",
   "metadata": {},
   "outputs": [
    {
     "name": "stdout",
     "output_type": "stream",
     "text": [
      "[[array([2.56328538, 6.15411337, 3.2269119 ]), array([2.45595116, 2.42418228, 3.14465783]), array([4.77663856, 2.5030841 , 2.1157862 ])], [array([2.25272198, 9.6344004 , 2.28577543]), array([2.47696292, 2.09306139, 4.68313393]), array([2.87148472, 3.57517069, 2.82019216])], [array([2.50151787, 2.47079054, 2.18417022]), array([2.20527592, 3.50085319, 3.78538663]), array([2.28661844, 2.03721195, 4.44943922])]]\n",
      "j 0 r [array([-6.23258972, -3.92726638, -4.26044403]), array([2.45595116, 2.42418228, 3.14465783]), array([4.77663856, 2.5030841 , 2.1157862 ])]\n",
      "j 1 r [array([2.25272198, 9.6344004 , 2.28577543]), array([ -4.1242067 , -12.20957108,  -4.10596758]), array([2.87148472, 3.57517069, 2.82019216])]\n",
      "j 2 r [array([2.50151787, 2.47079054, 2.18417022]), array([2.20527592, 3.50085319, 3.78538663]), array([-3.70679379, -4.97164372, -4.96955685])]\n",
      "\n",
      "\n",
      " [array([2.50151787, 2.47079054, 2.18417022]), array([2.20527592, 3.50085319, 3.78538663]), array([-3.70679379, -4.97164372, -4.96955685])]\n",
      "[1. 1. 1.]\n"
     ]
    }
   ],
   "source": [
    "import numpy as np\n",
    "\n",
    "k=3\n",
    "a, m = 3., 2.  # shape and mode\n",
    "s = [[(np.random.default_rng().pareto(a, 3) + 1) * m for i in range(k)] for j in range(k)]\n",
    "print(s)\n",
    "\n",
    "for j, r in enumerate(s):\n",
    "    r[j] += 1 - sum(r)\n",
    "    print(\"j\",j,\"r\",r)\n",
    "\n",
    "    \n",
    "print(\"\\n\\n\",r)\n",
    "print(sum(r))"
   ]
  },
  {
   "cell_type": "code",
   "execution_count": 51,
   "id": "eb9d8dce",
   "metadata": {},
   "outputs": [
    {
     "name": "stdout",
     "output_type": "stream",
     "text": [
      "[2.1045524, 2.97254237, 2.42227788]\n"
     ]
    }
   ],
   "source": [
    "a = np.array([2.1045524 , 2.97254237, 2.42227788])\n",
    "print(a.tolist())"
   ]
  },
  {
   "cell_type": "code",
   "execution_count": null,
   "id": "e095ea51",
   "metadata": {},
   "outputs": [],
   "source": []
  }
 ],
 "metadata": {
  "kernelspec": {
   "display_name": "Python 3 (ipykernel)",
   "language": "python",
   "name": "python3"
  },
  "language_info": {
   "codemirror_mode": {
    "name": "ipython",
    "version": 3
   },
   "file_extension": ".py",
   "mimetype": "text/x-python",
   "name": "python",
   "nbconvert_exporter": "python",
   "pygments_lexer": "ipython3",
   "version": "3.9.12"
  }
 },
 "nbformat": 4,
 "nbformat_minor": 5
}
