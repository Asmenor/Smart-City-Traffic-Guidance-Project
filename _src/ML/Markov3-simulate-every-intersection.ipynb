{
 "cells": [
  {
   "cell_type": "code",
   "execution_count": null,
   "id": "a769708f",
   "metadata": {},
   "outputs": [],
   "source": [
    "#https://ipython-books.github.io/131-simulating-a-discrete-time-markov-chain/"
   ]
  },
  {
   "cell_type": "code",
   "execution_count": 28,
   "id": "eddcc52a",
   "metadata": {},
   "outputs": [],
   "source": [
    "import numpy as np\n",
    "import matplotlib.pyplot as plt\n",
    "%matplotlib inline"
   ]
  },
  {
   "cell_type": "code",
   "execution_count": 42,
   "id": "cdfc2c05",
   "metadata": {},
   "outputs": [],
   "source": [
    "N = 100  # maximum number of cars at an intersection\n",
    "a = .5 / N  # car arrival rate\n",
    "b = .5 / N  # car departure rate"
   ]
  },
  {
   "cell_type": "code",
   "execution_count": 43,
   "id": "8c2924fd",
   "metadata": {},
   "outputs": [],
   "source": [
    "nsteps = 100\n",
    "x = np.zeros(nsteps)\n",
    "x[0] = 25"
   ]
  },
  {
   "cell_type": "code",
   "execution_count": 44,
   "id": "05ff1802",
   "metadata": {},
   "outputs": [],
   "source": [
    "for t in range(nsteps - 1):\n",
    "    if 0 < x[t] < N - 1:\n",
    "        # Is there an arrival?\n",
    "        birth = np.random.default_rng().uniform(0, 1/2) <= a * x[t]\n",
    "        # Is there a departure?\n",
    "        death = np.random.default_rng().uniform(0, 1/2) <= b * x[t]\n",
    "        # We update the population size.\n",
    "        x[t + 1] = x[t] + 1 * birth - 1 * death\n",
    "        \n",
    "        \n",
    "    # The evolution stops if we reach $0$ or $N$.\n",
    "    else:\n",
    "        x[t + 1] = x[t]"
   ]
  },
  {
   "cell_type": "code",
   "execution_count": 45,
   "id": "60b0a27e",
   "metadata": {},
   "outputs": [
    {
     "data": {
      "text/plain": [
       "[<matplotlib.lines.Line2D at 0x10b3dfdf0>]"
      ]
     },
     "execution_count": 45,
     "metadata": {},
     "output_type": "execute_result"
    },
    {
     "data": {
      "image/png": "[encoded data removed]",
      "text/plain": [
       "<Figure size 576x288 with 1 Axes>"
      ]
     },
     "metadata": {
      "needs_background": "light"
     },
     "output_type": "display_data"
    }
   ],
   "source": [
    "fig, ax = plt.subplots(1, 1, figsize=(8, 4))\n",
    "ax.plot(x, lw=2)"
   ]
  },
  {
   "cell_type": "markdown",
   "id": "e5aee2e6",
   "metadata": {},
   "source": [
    "Now, we will simulate many independent trials of this Markov chain. We could run the previous simulation with a loop, but it would be very slow (two nested for loops). Instead, we vectorize the simulation by considering all independent trials at once. There is a single loop over time. At every time step, we update all trials simultaneously with vectorized operations on vectors. The x vector now contains the population size of all trials, at a particular time. At initialization time, the population sizes are set to random numbers between 0 and N:"
   ]
  },
  {
   "cell_type": "code",
   "execution_count": 46,
   "id": "0ae21b4c",
   "metadata": {},
   "outputs": [],
   "source": [
    "ntrials = 100\n",
    "x = np.random.randint(size=ntrials,\n",
    "                      low=0, high=N)"
   ]
  },
  {
   "cell_type": "markdown",
   "id": "7c54801c",
   "metadata": {},
   "source": [
    "We define a function that performs the simulation. At every time step, we find the trials that undergo births and deaths by generating random vectors, and we update the population sizes with vector operations:"
   ]
  },
  {
   "cell_type": "code",
   "execution_count": 47,
   "id": "f040893a",
   "metadata": {},
   "outputs": [],
   "source": [
    "def simulate(x, nsteps):\n",
    "    \"\"\"Run the simulation.\"\"\"\n",
    "    for _ in range(nsteps - 1):\n",
    "        # Which trials to update?\n",
    "        upd = (0 < x) & (x < N - 1)\n",
    "        # In which trials do births occur?\n",
    "        birth = 1 * (np.random.rand(ntrials) <= a * x)\n",
    "        # In which trials do deaths occur?\n",
    "        death = 1 * (np.random.rand(ntrials) <= b * x)\n",
    "        # We update the population size for all trials\n",
    "        x[upd] += birth[upd] - death[upd]"
   ]
  },
  {
   "cell_type": "markdown",
   "id": "6f4ae7f7",
   "metadata": {},
   "source": [
    "Now, let's look at the histograms of the population size at different times. These histograms represent the probability distribution of the Markov chain, estimated with independent trials (the Monte Carlo method):"
   ]
  },
  {
   "cell_type": "code",
   "execution_count": 48,
   "id": "cae73f20",
   "metadata": {},
   "outputs": [
    {
     "data": {
      "image/png": "[encoded data removed]",
      "text/plain": [
       "<Figure size 864x216 with 3 Axes>"
      ]
     },
     "metadata": {
      "needs_background": "light"
     },
     "output_type": "display_data"
    }
   ],
   "source": [
    "bins = np.linspace(0, N, 25)\n",
    "\n",
    "nsteps_list = [10, 1000, 10000]\n",
    "fig, axes = plt.subplots(1, len(nsteps_list),\n",
    "                         figsize=(12, 3),\n",
    "                         sharey=True)\n",
    "for i, nsteps in enumerate(nsteps_list):\n",
    "    ax = axes[i]\n",
    "    simulate(x, nsteps)\n",
    "    ax.hist(x, bins=bins)\n",
    "    ax.set_xlabel(\"Population size\")\n",
    "    if i == 0:\n",
    "        ax.set_ylabel(\"Histogram\")\n",
    "    ax.set_title(f\"{nsteps} time steps\")\n"
   ]
  },
  {
   "cell_type": "code",
   "execution_count": null,
   "id": "279303b2",
   "metadata": {},
   "outputs": [],
   "source": [
    "#LATEST 9/5 2AM"
   ]
  }
 ],
 "metadata": {
  "kernelspec": {
   "display_name": "Python 3 (ipykernel)",
   "language": "python",
   "name": "python3"
  },
  "language_info": {
   "codemirror_mode": {
    "name": "ipython",
    "version": 3
   },
   "file_extension": ".py",
   "mimetype": "text/x-python",
   "name": "python",
   "nbconvert_exporter": "python",
   "pygments_lexer": "ipython3",
   "version": "3.9.12"
  }
 },
 "nbformat": 4,
 "nbformat_minor": 5
}
